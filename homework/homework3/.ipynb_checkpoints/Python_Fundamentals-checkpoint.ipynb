{
 "cells": [
  {
   "cell_type": "markdown",
   "id": "843ee880-9b44-41e9-95ae-c511fdc0c2fa",
   "metadata": {},
   "source": [
    "NumPy Operations"
   ]
  },
  {
   "cell_type": "code",
   "execution_count": 19,
   "id": "478f9cc7-2fdb-4f65-8886-b97e819e3a90",
   "metadata": {},
   "outputs": [
    {
     "name": "stdout",
     "output_type": "stream",
     "text": [
      "[11  4  4]\n"
     ]
    }
   ],
   "source": [
    "#Create an array and perform elementwise operations.\n",
    "import numpy as np\n",
    "\n",
    "arr1 = np.array([9,1,1])\n",
    "arr2 = np.array([2,3,3])\n",
    "\n",
    "op = arr1 + arr2\n",
    "print(op)"
   ]
  },
  {
   "cell_type": "code",
   "execution_count": 23,
   "id": "aa5c943e-92a7-4e88-b4a1-8e44b2e62ad2",
   "metadata": {},
   "outputs": [
    {
     "name": "stdout",
     "output_type": "stream",
     "text": [
      "Loop method: 83\n",
      "NumPy method: 83\n"
     ]
    }
   ],
   "source": [
    "#Compare loop vs vectorized execution.\n",
    "\n",
    "# Loop method\n",
    "sum_squares_loop = 0\n",
    "for i in range(len(arr2)):\n",
    "    sum_squares_loop += arr[i]**2\n",
    "    \n",
    "# NumPy vectorized method\n",
    "sum_squares_numpy = np.sum(arr ** 2)\n",
    "\n",
    "print(f\"Loop method: {sum_squares_loop}\")\n",
    "print(f\"NumPy method: {sum_squares_numpy}\")"
   ]
  },
  {
   "cell_type": "markdown",
   "id": "10bc771f-2e99-4da5-a07e-fbba3929d1ea",
   "metadata": {},
   "source": [
    "Dataset Loading"
   ]
  },
  {
   "cell_type": "code",
   "execution_count": 37,
   "id": "92d8e0e3-7ab7-4bc0-a3d8-ac9437707a42",
   "metadata": {
    "scrolled": true
   },
   "outputs": [
    {
     "name": "stdout",
     "output_type": "stream",
     "text": [
      "Dataset loading:\n",
      "   category  value        date\n",
      "0        A     10  2025-08-01\n",
      "1        B     15  2025-08-02\n",
      "2        A     12  2025-08-03\n",
      "3        B     18  2025-08-04\n",
      "4        C     25  2025-08-05\n",
      "5        C     30  2025-08-06\n",
      "6        A     11  2025-08-07\n",
      "7        B     14  2025-08-08\n",
      "8        C     28  2025-08-09\n",
      "9        A     13  2025-08-10\n",
      "<class 'pandas.core.frame.DataFrame'>\n",
      "RangeIndex: 10 entries, 0 to 9\n",
      "Data columns (total 3 columns):\n",
      " #   Column    Non-Null Count  Dtype \n",
      "---  ------    --------------  ----- \n",
      " 0   category  10 non-null     object\n",
      " 1   value     10 non-null     int64 \n",
      " 2   date      10 non-null     object\n",
      "dtypes: int64(1), object(2)\n",
      "memory usage: 372.0+ bytes\n",
      "None\n",
      "  category  value        date\n",
      "0        A     10  2025-08-01\n",
      "1        B     15  2025-08-02\n",
      "2        A     12  2025-08-03\n",
      "3        B     18  2025-08-04\n",
      "4        C     25  2025-08-05\n",
      "Summary Statistics:\n",
      "            value\n",
      "count  10.000000\n",
      "mean   17.600000\n",
      "std     7.381659\n",
      "min    10.000000\n",
      "25%    12.250000\n",
      "50%    14.500000\n",
      "75%    23.250000\n",
      "max    30.000000\n"
     ]
    }
   ],
   "source": [
    "#Load provided CSV (data/starter_data.csv) using pandas.\n",
    "import pandas as pd\n",
    "df = pd.read_csv('starter_data.csv')\n",
    "\n",
    "#Inspect with .info() and .head().\n",
    "print (f\"Dataset loading:\\n\" , (df))\n",
    "print (df.info())\n",
    "print (df.head())\n",
    "print (f\"Summary Statistics:\\n\" , (df.describe()))"
   ]
  },
  {
   "cell_type": "code",
   "execution_count": 44,
   "id": "55ca0eb3-3f3e-404d-8477-3b64f14c9413",
   "metadata": {
    "scrolled": true
   },
   "outputs": [
    {
     "name": "stdout",
     "output_type": "stream",
     "text": [
      "Column names: ['category', 'value', 'date']\n",
      "              value          \n",
      "               mean sum count\n",
      "category                     \n",
      "A         11.500000  46     4\n",
      "B         15.666667  47     3\n",
      "C         27.666667  83     3\n"
     ]
    }
   ],
   "source": [
    "# Groupby aggregation by category\n",
    "print(\"Column names:\", df.columns.tolist())\n",
    "\n",
    "# Then use the correct column name for groupby\n",
    "print(df.groupby(df.columns[0]).agg({\n",
    "    df.columns[1]: ['mean', 'sum', 'count']\n",
    "}))"
   ]
  },
  {
   "cell_type": "code",
   "execution_count": 48,
   "id": "baac55ef-c96c-4b77-b738-196fd9662b9b",
   "metadata": {},
   "outputs": [
    {
     "name": "stdout",
     "output_type": "stream",
     "text": [
      "Summary stats saved to data/processed/summary.csv\n"
     ]
    }
   ],
   "source": [
    "import os\n",
    "\n",
    "# Create processed directory if it doesn't exist\n",
    "os.makedirs('data/processed', exist_ok=True)\n",
    "\n",
    "# Save summary statistics to CSV\n",
    "summary_stats = df.describe()\n",
    "summary_stats.to_csv('data/processed/summary.csv')\n",
    "print(\"Summary stats saved to data/processed/summary.csv\")"
   ]
  },
  {
   "cell_type": "code",
   "execution_count": null,
   "id": "b035cd13-62e2-495d-bb43-aae54505582b",
   "metadata": {},
   "outputs": [],
   "source": []
  }
 ],
 "metadata": {
  "kernelspec": {
   "display_name": "Python(bootcamp_env)",
   "language": "python",
   "name": "bootcamp_env"
  },
  "language_info": {
   "codemirror_mode": {
    "name": "ipython",
    "version": 3
   },
   "file_extension": ".py",
   "mimetype": "text/x-python",
   "name": "python",
   "nbconvert_exporter": "python",
   "pygments_lexer": "ipython3",
   "version": "3.13.5"
  }
 },
 "nbformat": 4,
 "nbformat_minor": 5
}
