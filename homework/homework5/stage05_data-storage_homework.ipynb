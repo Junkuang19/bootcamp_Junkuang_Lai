{
 "cells": [
  {
   "cell_type": "markdown",
   "id": "98f7e117",
   "metadata": {},
   "source": [
    "# Homework Starter — Stage 05: Data Storage\n",
    "Name: \n",
    "Date: \n",
    "\n",
    "Objectives:\n",
    "- Env-driven paths to `data/raw/` and `data/processed/`\n",
    "- Save CSV and Parquet; reload and validate\n",
    "- Abstract IO with utility functions; document choices"
   ]
  },
  {
   "cell_type": "code",
   "execution_count": 3,
   "id": "deb17b21",
   "metadata": {},
   "outputs": [
    {
     "name": "stdout",
     "output_type": "stream",
     "text": [
      "RAW -> C:\\Users\\noven\\Desktop\\Github Fre-5040 Bootcamp\\bootcamp_Junkuang_Lai\\homework\\homework5\\data\\raw\n",
      "PROC -> C:\\Users\\noven\\Desktop\\Github Fre-5040 Bootcamp\\bootcamp_Junkuang_Lai\\homework\\homework5\\data\\processed\n"
     ]
    }
   ],
   "source": [
    "import os, pathlib, datetime as dt\n",
    "import pandas as pd\n",
    "from dotenv import load_dotenv\n",
    "\n",
    "load_dotenv()\n",
    "RAW = pathlib.Path(os.getenv('DATA_DIR_RAW', 'data/raw'))\n",
    "PROC = pathlib.Path(os.getenv('DATA_DIR_PROCESSED', 'data/processed'))\n",
    "RAW.mkdir(parents=True, exist_ok=True)\n",
    "PROC.mkdir(parents=True, exist_ok=True)\n",
    "print('RAW ->', RAW.resolve())\n",
    "print('PROC ->', PROC.resolve())"
   ]
  },
  {
   "cell_type": "markdown",
   "id": "fdb0f3c0",
   "metadata": {},
   "source": [
    "## 1) Create or Load a Sample DataFrame\n",
    "You may reuse data from prior stages or create a small synthetic dataset."
   ]
  },
  {
   "cell_type": "code",
   "execution_count": 4,
   "id": "d4b22fd8",
   "metadata": {},
   "outputs": [
    {
     "data": {
      "text/html": [
       "<div>\n",
       "<style scoped>\n",
       "    .dataframe tbody tr th:only-of-type {\n",
       "        vertical-align: middle;\n",
       "    }\n",
       "\n",
       "    .dataframe tbody tr th {\n",
       "        vertical-align: top;\n",
       "    }\n",
       "\n",
       "    .dataframe thead th {\n",
       "        text-align: right;\n",
       "    }\n",
       "</style>\n",
       "<table border=\"1\" class=\"dataframe\">\n",
       "  <thead>\n",
       "    <tr style=\"text-align: right;\">\n",
       "      <th></th>\n",
       "      <th>date</th>\n",
       "      <th>ticker</th>\n",
       "      <th>price</th>\n",
       "    </tr>\n",
       "  </thead>\n",
       "  <tbody>\n",
       "    <tr>\n",
       "      <th>0</th>\n",
       "      <td>2024-01-01</td>\n",
       "      <td>NVDA</td>\n",
       "      <td>150.715531</td>\n",
       "    </tr>\n",
       "    <tr>\n",
       "      <th>1</th>\n",
       "      <td>2024-01-02</td>\n",
       "      <td>NVDA</td>\n",
       "      <td>152.121055</td>\n",
       "    </tr>\n",
       "    <tr>\n",
       "      <th>2</th>\n",
       "      <td>2024-01-03</td>\n",
       "      <td>NVDA</td>\n",
       "      <td>153.861056</td>\n",
       "    </tr>\n",
       "    <tr>\n",
       "      <th>3</th>\n",
       "      <td>2024-01-04</td>\n",
       "      <td>NVDA</td>\n",
       "      <td>154.006548</td>\n",
       "    </tr>\n",
       "    <tr>\n",
       "      <th>4</th>\n",
       "      <td>2024-01-05</td>\n",
       "      <td>NVDA</td>\n",
       "      <td>154.260478</td>\n",
       "    </tr>\n",
       "  </tbody>\n",
       "</table>\n",
       "</div>"
      ],
      "text/plain": [
       "        date ticker       price\n",
       "0 2024-01-01   NVDA  150.715531\n",
       "1 2024-01-02   NVDA  152.121055\n",
       "2 2024-01-03   NVDA  153.861056\n",
       "3 2024-01-04   NVDA  154.006548\n",
       "4 2024-01-05   NVDA  154.260478"
      ]
     },
     "execution_count": 4,
     "metadata": {},
     "output_type": "execute_result"
    }
   ],
   "source": [
    "import numpy as np\n",
    "dates = pd.date_range('2024-01-01', periods=20, freq='D')\n",
    "df = pd.DataFrame({'date': dates, 'ticker': ['NVDA']*20, 'price': 150 + np.random.randn(20).cumsum()})\n",
    "df.head()"
   ]
  },
  {
   "cell_type": "markdown",
   "id": "041db224",
   "metadata": {},
   "source": [
    "## 2) Save CSV to data/raw/ and Parquet to data/processed/ (TODO)\n",
    "- Use timestamped filenames.\n",
    "- Handle missing Parquet engine gracefully."
   ]
  },
  {
   "cell_type": "code",
   "execution_count": 5,
   "id": "eaabd1fa",
   "metadata": {},
   "outputs": [
    {
     "data": {
      "text/plain": [
       "WindowsPath('data/processed/sample_20250818-094116.parquet')"
      ]
     },
     "execution_count": 5,
     "metadata": {},
     "output_type": "execute_result"
    }
   ],
   "source": [
    "def ts(): return dt.datetime.now().strftime('%Y%m%d-%H%M%S')\n",
    "\n",
    "# TODO: Save CSV\n",
    "csv_path = RAW / f\"sample_{ts()}.csv\"\n",
    "df.to_csv(csv_path, index=False)\n",
    "csv_path\n",
    "\n",
    "# TODO: Save Parquet\n",
    "pq_path = PROC / f\"sample_{ts()}.parquet\"\n",
    "try:\n",
    "    df.to_parquet(pq_path)\n",
    "except Exception as e:\n",
    "    print('Parquet engine not available. Install pyarrow or fastparquet to complete this step.')\n",
    "    pq_path = None\n",
    "pq_path"
   ]
  },
  {
   "cell_type": "markdown",
   "id": "315b0fd6",
   "metadata": {},
   "source": [
    "## 3) Reload and Validate (TODO)\n",
    "- Compare shapes and key dtypes."
   ]
  },
  {
   "cell_type": "code",
   "execution_count": 6,
   "id": "70513cc2",
   "metadata": {},
   "outputs": [
    {
     "data": {
      "text/plain": [
       "{'shape_equal': True, 'date_is_datetime': True, 'price_is_numeric': True}"
      ]
     },
     "execution_count": 6,
     "metadata": {},
     "output_type": "execute_result"
    }
   ],
   "source": [
    "def validate_loaded(original, reloaded):\n",
    "    checks = {\n",
    "        'shape_equal': original.shape == reloaded.shape,\n",
    "        'date_is_datetime': pd.api.types.is_datetime64_any_dtype(reloaded['date']) if 'date' in reloaded.columns else False,\n",
    "        'price_is_numeric': pd.api.types.is_numeric_dtype(reloaded['price']) if 'price' in reloaded.columns else False,\n",
    "    }\n",
    "    return checks\n",
    "\n",
    "df_csv = pd.read_csv(csv_path, parse_dates=['date'])\n",
    "validate_loaded(df, df_csv)"
   ]
  },
  {
   "cell_type": "code",
   "execution_count": 8,
   "id": "66059305",
   "metadata": {},
   "outputs": [],
   "source": [
    "if pq_path:\n",
    "    try:\n",
    "        df_pq = pd.read_parquet(pq_path)\n",
    "        validate_loaded(df, df_pq)\n",
    "    except Exception as e:\n",
    "        print('Parquet read failed:', e)"
   ]
  },
  {
   "cell_type": "markdown",
   "id": "f24eb80f",
   "metadata": {},
   "source": [
    "## 4) Utilities (TODO)\n",
    "- Implement `detect_format`, `write_df`, `read_df`.\n",
    "- Use suffix to route; create parent dirs if needed; friendly errors for Parquet."
   ]
  },
  {
   "cell_type": "code",
   "execution_count": 10,
   "id": "01c10b47",
   "metadata": {},
   "outputs": [],
   "source": [
    "import typing as t, pathlib\n",
    "\n",
    "def detect_format(path: t.Union[str, pathlib.Path]):\n",
    "    s = str(path).lower()\n",
    "    if s.endswith('.csv'): return 'csv'\n",
    "    if s.endswith('.parquet') or s.endswith('.pq') or s.endswith('.parq'): return 'parquet'\n",
    "    raise ValueError('Unsupported format: ' + s)\n",
    "\n",
    "def write_df(df: pd.DataFrame, path: t.Union[str, pathlib.Path]):\n",
    "    p = pathlib.Path(path); p.parent.mkdir(parents=True, exist_ok=True)\n",
    "    fmt = detect_format(p)\n",
    "    if fmt == 'csv':\n",
    "        df.to_csv(p, index=False)\n",
    "    else:\n",
    "        try:\n",
    "            df.to_parquet(p)\n",
    "        except Exception as e:\n",
    "            raise RuntimeError('Parquet engine not available. Install pyarrow or fastparquet.') from e\n",
    "    return p\n",
    "\n",
    "def read_df(path: t.Union[str, pathlib.Path]):\n",
    "    p = pathlib.Path(path)\n",
    "    fmt = detect_format(p)\n",
    "    if fmt == 'csv':\n",
    "        return pd.read_csv(p, parse_dates=['date']) if 'date' in pd.read_csv(p, nrows=0).columns else pd.read_csv(p)\n",
    "    else:\n",
    "        try:\n",
    "            return pd.read_parquet(p)\n",
    "        except Exception as e:\n",
    "            raise RuntimeError('Parquet engine not available. Install pyarrow or fastparquet.') from e\n",
    "\n",
    "# Demo\n",
    "p_csv = RAW / f\"util_{ts()}.csv\"\n",
    "p_pq  = PROC / f\"util_{ts()}.parquet\"\n",
    "write_df(df, p_csv); read_df(p_csv).head()\n",
    "try:\n",
    "    write_df(df, p_pq)\n",
    "    read_df(p_pq).head()\n",
    "except RuntimeError as e:\n",
    "    print('Skipping Parquet util demo:', e)"
   ]
  },
  {
   "cell_type": "markdown",
   "id": "4109f5f3",
   "metadata": {},
   "source": [
    "## 5) Documentation (TODO)\n",
    "- Update README with a **Data Storage** section (folders, formats, env usage).\n",
    "- Summarize validation checks and any assumptions."
   ]
  },
  {
   "cell_type": "code",
   "execution_count": 11,
   "id": "15625b74",
   "metadata": {},
   "outputs": [
    {
     "name": "stdout",
     "output_type": "stream",
     "text": [
      "Shape match: True, Key columns dtype match: True\n"
     ]
    }
   ],
   "source": [
    "# 1. Load environment variables and prepare directories\n",
    "import os\n",
    "from dotenv import load_dotenv\n",
    "from pathlib import Path\n",
    "\n",
    "load_dotenv()\n",
    "DATA_DIR_RAW = os.getenv('DATA_DIR_RAW', 'data/raw')\n",
    "DATA_DIR_PROCESSED = os.getenv('DATA_DIR_PROCESSED', 'data/processed')\n",
    "Path(DATA_DIR_RAW).mkdir(parents=True, exist_ok=True)\n",
    "Path(DATA_DIR_PROCESSED).mkdir(parents=True, exist_ok=True)\n",
    "\n",
    "# 2. Create sample DataFrame and save as CSV and Parquet\n",
    "import pandas as pd\n",
    "\n",
    "df = pd.DataFrame({\n",
    "    'name': ['Alice', 'Bob', 'Charlie'],\n",
    "    'age': [25, 30, 35],\n",
    "    'score': [88.5, 92.0, 79.5]\n",
    "})\n",
    "\n",
    "csv_path = os.path.join(DATA_DIR_RAW, 'sample.csv')\n",
    "parquet_path = os.path.join(DATA_DIR_PROCESSED, 'sample.parquet')\n",
    "\n",
    "df.to_csv(csv_path, index=False)\n",
    "try:\n",
    "    df.to_parquet(parquet_path, index=False)\n",
    "except ImportError:\n",
    "    print('Parquet engine not installed. Please install pyarrow or fastparquet.')\n",
    "\n",
    "# 3. Reload and validate\n",
    "df_csv = pd.read_csv(csv_path)\n",
    "try:\n",
    "    df_parquet = pd.read_parquet(parquet_path)\n",
    "except Exception:\n",
    "    df_parquet = None\n",
    "\n",
    "def validate(df1, df2, key_cols):\n",
    "    if df2 is None:\n",
    "        return 'Parquet not loaded, cannot validate.'\n",
    "    shape_match = df1.shape == df2.shape\n",
    "    dtype_match = all(df1[c].dtype == df2[c].dtype for c in key_cols)\n",
    "    return f'Shape match: {shape_match}, Key columns dtype match: {dtype_match}'\n",
    "\n",
    "print(validate(df_csv, df_parquet, ['name', 'age']))\n",
    "\n",
    "# 4. Utility functions\n",
    "def write_df(df, path):\n",
    "    ext = Path(path).suffix.lower()\n",
    "    Path(path).parent.mkdir(parents=True, exist_ok=True)\n",
    "    if ext == '.csv':\n",
    "        df.to_csv(path, index=False)\n",
    "    elif ext == '.parquet':\n",
    "        try:\n",
    "            df.to_parquet(path, index=False)\n",
    "        except ImportError:\n",
    "            print('Parquet engine not installed. Please install pyarrow or fastparquet.')\n",
    "    else:\n",
    "        raise ValueError('Only .csv or .parquet suffix supported.')\n",
    "\n",
    "def read_df(path):\n",
    "    ext = Path(path).suffix.lower()\n",
    "    if ext == '.csv':\n",
    "        return pd.read_csv(path)\n",
    "    elif ext == '.parquet':\n",
    "        try:\n",
    "            return pd.read_parquet(path)\n",
    "        except ImportError:\n",
    "            print('Parquet engine not installed. Please install pyarrow or fastparquet.')\n",
    "            return None\n",
    "    else:\n",
    "        raise ValueError('Only .csv or .parquet suffix supported.')"
   ]
  },
  {
   "cell_type": "code",
   "execution_count": null,
   "id": "a9824f15-ffeb-4c9d-b8bf-0e56eadad032",
   "metadata": {},
   "outputs": [],
   "source": []
  }
 ],
 "metadata": {
  "kernelspec": {
   "display_name": "Python(bootcamp_env)",
   "language": "python",
   "name": "bootcamp_env"
  },
  "language_info": {
   "codemirror_mode": {
    "name": "ipython",
    "version": 3
   },
   "file_extension": ".py",
   "mimetype": "text/x-python",
   "name": "python",
   "nbconvert_exporter": "python",
   "pygments_lexer": "ipython3",
   "version": "3.13.5"
  }
 },
 "nbformat": 4,
 "nbformat_minor": 5
}
