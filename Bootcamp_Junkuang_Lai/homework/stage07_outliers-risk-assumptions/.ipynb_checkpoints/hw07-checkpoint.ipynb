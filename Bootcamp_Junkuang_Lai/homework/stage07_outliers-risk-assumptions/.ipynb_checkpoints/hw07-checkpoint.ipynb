{
 "cells": [
  {
   "cell_type": "markdown",
   "id": "e3fa0470-ddbd-45f2-965a-af85ac4b9dc1",
   "metadata": {},
   "source": [
    "# Setup: Generate Sample Dataset\n",
    "\n",
    "This cell creates the required folder structure (`data/raw/` and `data/processed/`) relative to the notebook, and generates the sample CSV dataset with missing values. \n",
    "This ensures the dataset is ready for cleaning functions and saves it to `data/raw/outliers_homework.csv`."
   ]
  },
  {
   "cell_type": "code",
   "execution_count": 2,
   "id": "0ecd7f37-cf52-4f25-bed7-aba472a5db17",
   "metadata": {},
   "outputs": [
    {
     "name": "stdout",
     "output_type": "stream",
     "text": [
      "Synthetic dataset with two columns created and saved to C:/Users/noven/Desktop/Github Fre-5040 Bootcamp/bootcamp_Junkuang_Lai/Bootcamp_Junkuang_Lai/homework/data/raw\\outliers_homework.csv\n"
     ]
    }
   ],
   "source": [
    "import os\n",
    "import numpy as np\n",
    "import pandas as pd\n",
    "\n",
    "# Define folder paths relative to this notebook\n",
    "raw_dir = 'C:/Users/noven/Desktop/Github Fre-5040 Bootcamp/bootcamp_Junkuang_Lai/Bootcamp_Junkuang_Lai/homework/data/raw'\n",
    "processed_dir = 'C:/Users/noven/Desktop/Github Fre-5040 Bootcamp/bootcamp_Junkuang_Lai/Bootcamp_Junkuang_Lai/homework/data/processed'\n",
    "\n",
    "# Create folders if they don't exist\n",
    "os.makedirs(raw_dir, exist_ok=True)\n",
    "os.makedirs(processed_dir, exist_ok=True)\n",
    "\n",
    "# Generate business day dates\n",
    "dates = pd.date_range(start=\"2022-01-03\", end=\"2022-06-10\", freq=\"B\")\n",
    "\n",
    "# Fixed random seed for reproducibility\n",
    "np.random.seed(17)\n",
    "\n",
    "# Column 1: daily_return ~ N(0, 0.01)\n",
    "returns = np.random.normal(0, 0.01, size=len(dates))\n",
    "mask_pre_may = dates < \"2022-05-01\"\n",
    "returns[mask_pre_may] -= 0.0015  \n",
    "\n",
    "# Inject \"shock\" values\n",
    "shock_values = {\n",
    "    \"2022-05-02\": 0.1748425237194541,\n",
    "    \"2022-05-03\": -0.16825801732486943,\n",
    "    \"2022-05-06\": -0.19667220757153227,\n",
    "    \"2022-05-09\": 0.21240223590614747,\n",
    "    \"2022-05-12\": -0.178729287231294\n",
    "}\n",
    "for d, v in shock_values.items():\n",
    "    idx = np.where(dates == pd.to_datetime(d))[0][0]\n",
    "    returns[idx] = v\n",
    "\n",
    "# Column 2: daily_return_2, correlated with daily_return + small noise\n",
    "daily_return_2 = returns * 0.6 + np.random.normal(0, 0.005, size=len(dates))\n",
    "\n",
    "# Create DataFrame with two numeric columns\n",
    "df = pd.DataFrame({\n",
    "    \"date\": dates,\n",
    "    \"daily_return\": returns,\n",
    "    \"daily_return_2\": daily_return_2\n",
    "})\n",
    "\n",
    "# Save to CSV in raw data folder\n",
    "csv_path = os.path.join(raw_dir, 'outliers_homework.csv')\n",
    "if not os.path.exists(csv_path):\n",
    "    df.to_csv(csv_path, index=False)\n",
    "    print(f'Synthetic dataset with two columns created and saved to {csv_path}')\n",
    "else:\n",
    "    print(f'File already exists at {csv_path}. Skipping CSV creation to avoid overwrite.')"
   ]
  },
  {
   "cell_type": "markdown",
   "id": "e590af85",
   "metadata": {},
   "source": [
    "# Environment Setup & Dataset loaded"
   ]
  },
  {
   "cell_type": "code",
   "execution_count": 11,
   "id": "84679b55",
   "metadata": {},
   "outputs": [
    {
     "data": {
      "text/html": [
       "<div>\n",
       "<style scoped>\n",
       "    .dataframe tbody tr th:only-of-type {\n",
       "        vertical-align: middle;\n",
       "    }\n",
       "\n",
       "    .dataframe tbody tr th {\n",
       "        vertical-align: top;\n",
       "    }\n",
       "\n",
       "    .dataframe thead th {\n",
       "        text-align: right;\n",
       "    }\n",
       "</style>\n",
       "<table border=\"1\" class=\"dataframe\">\n",
       "  <thead>\n",
       "    <tr style=\"text-align: right;\">\n",
       "      <th></th>\n",
       "      <th>x</th>\n",
       "      <th>y</th>\n",
       "    </tr>\n",
       "  </thead>\n",
       "  <tbody>\n",
       "    <tr>\n",
       "      <th>0</th>\n",
       "      <td>0.000000</td>\n",
       "      <td>1.331519</td>\n",
       "    </tr>\n",
       "    <tr>\n",
       "      <th>1</th>\n",
       "      <td>0.050251</td>\n",
       "      <td>-1.115001</td>\n",
       "    </tr>\n",
       "    <tr>\n",
       "      <th>2</th>\n",
       "      <td>0.100503</td>\n",
       "      <td>1.969787</td>\n",
       "    </tr>\n",
       "    <tr>\n",
       "      <th>3</th>\n",
       "      <td>0.150754</td>\n",
       "      <td>2.706032</td>\n",
       "    </tr>\n",
       "    <tr>\n",
       "      <th>4</th>\n",
       "      <td>0.201005</td>\n",
       "      <td>2.686840</td>\n",
       "    </tr>\n",
       "  </tbody>\n",
       "</table>\n",
       "</div>"
      ],
      "text/plain": [
       "          x         y\n",
       "0  0.000000  1.331519\n",
       "1  0.050251 -1.115001\n",
       "2  0.100503  1.969787\n",
       "3  0.150754  2.706032\n",
       "4  0.201005  2.686840"
      ]
     },
     "execution_count": 11,
     "metadata": {},
     "output_type": "execute_result"
    }
   ],
   "source": [
    "# Setup\n",
    "import numpy as np\n",
    "import pandas as pd\n",
    "import matplotlib.pyplot as plt\n",
    "from pathlib import Path\n",
    "from sklearn.linear_model import LinearRegression\n",
    "from sklearn.metrics import mean_absolute_error, r2_score\n",
    "np.random.seed(17)\n",
    "# Load the dataset\n",
    "data_path = Path('data/raw/outliers_homework.csv')\n",
    "if data_path.exists():\n",
    "    df = pd.read_csv(data_path)\n",
    "else:\n",
    "    # Synthetic fallback: linear trend with noise and a few extremes\n",
    "    x = np.linspace(0, 10, 200)\n",
    "    y = 2.2 * x + 1 + np.random.normal(0, 1.2, size=x.size)\n",
    "    y[10] += 15; y[120] -= 13; y[160] += 18\n",
    "    df = pd.DataFrame({'x': x, 'y': y})\n",
    "df.head()"
   ]
  },
  {
   "cell_type": "markdown",
   "id": "6a71da23",
   "metadata": {},
   "source": [
    "# Detect_outliers_iqr(series) & detect_outliers_zscore & Stretch winsorize_series"
   ]
  },
  {
   "cell_type": "code",
   "execution_count": 12,
   "id": "2c0b59ee",
   "metadata": {},
   "outputs": [
    {
     "data": {
      "text/html": [
       "<div>\n",
       "<style scoped>\n",
       "    .dataframe tbody tr th:only-of-type {\n",
       "        vertical-align: middle;\n",
       "    }\n",
       "\n",
       "    .dataframe tbody tr th {\n",
       "        vertical-align: top;\n",
       "    }\n",
       "\n",
       "    .dataframe thead th {\n",
       "        text-align: right;\n",
       "    }\n",
       "</style>\n",
       "<table border=\"1\" class=\"dataframe\">\n",
       "  <thead>\n",
       "    <tr style=\"text-align: right;\">\n",
       "      <th></th>\n",
       "      <th>x</th>\n",
       "      <th>y</th>\n",
       "      <th>outlier_iqr</th>\n",
       "      <th>outlier_zscore</th>\n",
       "    </tr>\n",
       "  </thead>\n",
       "  <tbody>\n",
       "    <tr>\n",
       "      <th>0</th>\n",
       "      <td>0.000000</td>\n",
       "      <td>1.331519</td>\n",
       "      <td>False</td>\n",
       "      <td>False</td>\n",
       "    </tr>\n",
       "    <tr>\n",
       "      <th>1</th>\n",
       "      <td>0.050251</td>\n",
       "      <td>-1.115001</td>\n",
       "      <td>False</td>\n",
       "      <td>False</td>\n",
       "    </tr>\n",
       "    <tr>\n",
       "      <th>2</th>\n",
       "      <td>0.100503</td>\n",
       "      <td>1.969787</td>\n",
       "      <td>False</td>\n",
       "      <td>False</td>\n",
       "    </tr>\n",
       "    <tr>\n",
       "      <th>3</th>\n",
       "      <td>0.150754</td>\n",
       "      <td>2.706032</td>\n",
       "      <td>False</td>\n",
       "      <td>False</td>\n",
       "    </tr>\n",
       "    <tr>\n",
       "      <th>4</th>\n",
       "      <td>0.201005</td>\n",
       "      <td>2.686840</td>\n",
       "      <td>False</td>\n",
       "      <td>False</td>\n",
       "    </tr>\n",
       "  </tbody>\n",
       "</table>\n",
       "</div>"
      ],
      "text/plain": [
       "          x         y  outlier_iqr  outlier_zscore\n",
       "0  0.000000  1.331519        False           False\n",
       "1  0.050251 -1.115001        False           False\n",
       "2  0.100503  1.969787        False           False\n",
       "3  0.150754  2.706032        False           False\n",
       "4  0.201005  2.686840        False           False"
      ]
     },
     "execution_count": 12,
     "metadata": {},
     "output_type": "execute_result"
    }
   ],
   "source": [
    "#  IQR Detection\n",
    "\n",
    "def detect_outliers_iqr(series: pd.Series, k: float = 1.5) -> pd.Series:\n",
    "    \"\"\"Return boolean mask for IQR-based outliers.\n",
    "    Assumptions: distribution reasonably summarized by quartiles; k controls strictness.\n",
    "    \"\"\"\n",
    "    q1 = series.quantile(0.25)\n",
    "    q3 = series.quantile(0.75)\n",
    "    iqr = q3 - q1\n",
    "    lower = q1 - k * iqr\n",
    "    upper = q3 + k * iqr\n",
    "    return (series < lower) | (series > upper)\n",
    "\n",
    "# Z-Score Detection\n",
    "\n",
    "def detect_outliers_zscore(series: pd.Series, threshold: float = 3.0) -> pd.Series:\n",
    "    \"\"\"Return boolean mask for Z-score outliers where |z| > threshold.\n",
    "    Assumptions: roughly normal distribution; sensitive to heavy tails.\n",
    "    \"\"\"\n",
    "    mu = series.mean()\n",
    "    sigma = series.std(ddof=0)\n",
    "    z = (series - mu) / (sigma if sigma != 0 else 1.0)\n",
    "    return z.abs() > threshold\n",
    "\n",
    "# Quick check\n",
    "df['outlier_iqr'] = detect_outliers_iqr(df['y'])\n",
    "df.head(5)\n",
    "df['outlier_zscore'] = detect_outliers_zscore(df['y'])\n",
    "df.head(5)"
   ]
  },
  {
   "cell_type": "code",
   "execution_count": 38,
   "id": "6e1ccb61",
   "metadata": {},
   "outputs": [
    {
     "data": {
      "text/html": [
       "<div>\n",
       "<style scoped>\n",
       "    .dataframe tbody tr th:only-of-type {\n",
       "        vertical-align: middle;\n",
       "    }\n",
       "\n",
       "    .dataframe tbody tr th {\n",
       "        vertical-align: top;\n",
       "    }\n",
       "\n",
       "    .dataframe thead th {\n",
       "        text-align: right;\n",
       "    }\n",
       "</style>\n",
       "<table border=\"1\" class=\"dataframe\">\n",
       "  <thead>\n",
       "    <tr style=\"text-align: right;\">\n",
       "      <th></th>\n",
       "      <th>x</th>\n",
       "      <th>y</th>\n",
       "      <th>outlier_iqr</th>\n",
       "      <th>outlier_zscore</th>\n",
       "      <th>outlier_z</th>\n",
       "      <th>y_winsorized</th>\n",
       "    </tr>\n",
       "  </thead>\n",
       "  <tbody>\n",
       "    <tr>\n",
       "      <th>0</th>\n",
       "      <td>0.000000</td>\n",
       "      <td>1.331519</td>\n",
       "      <td>False</td>\n",
       "      <td>False</td>\n",
       "      <td>False</td>\n",
       "      <td>2.029176</td>\n",
       "    </tr>\n",
       "    <tr>\n",
       "      <th>1</th>\n",
       "      <td>0.050251</td>\n",
       "      <td>-1.115001</td>\n",
       "      <td>False</td>\n",
       "      <td>False</td>\n",
       "      <td>False</td>\n",
       "      <td>2.029176</td>\n",
       "    </tr>\n",
       "    <tr>\n",
       "      <th>2</th>\n",
       "      <td>0.100503</td>\n",
       "      <td>1.969787</td>\n",
       "      <td>False</td>\n",
       "      <td>False</td>\n",
       "      <td>False</td>\n",
       "      <td>2.029176</td>\n",
       "    </tr>\n",
       "    <tr>\n",
       "      <th>3</th>\n",
       "      <td>0.150754</td>\n",
       "      <td>2.706032</td>\n",
       "      <td>False</td>\n",
       "      <td>False</td>\n",
       "      <td>False</td>\n",
       "      <td>2.706032</td>\n",
       "    </tr>\n",
       "    <tr>\n",
       "      <th>4</th>\n",
       "      <td>0.201005</td>\n",
       "      <td>2.686840</td>\n",
       "      <td>False</td>\n",
       "      <td>False</td>\n",
       "      <td>False</td>\n",
       "      <td>2.686840</td>\n",
       "    </tr>\n",
       "  </tbody>\n",
       "</table>\n",
       "</div>"
      ],
      "text/plain": [
       "          x         y  outlier_iqr  outlier_zscore  outlier_z  y_winsorized\n",
       "0  0.000000  1.331519        False           False      False      2.029176\n",
       "1  0.050251 -1.115001        False           False      False      2.029176\n",
       "2  0.100503  1.969787        False           False      False      2.029176\n",
       "3  0.150754  2.706032        False           False      False      2.706032\n",
       "4  0.201005  2.686840        False           False      False      2.686840"
      ]
     },
     "execution_count": 38,
     "metadata": {},
     "output_type": "execute_result"
    }
   ],
   "source": [
    "# Winsorization\n",
    "def winsorize_series(series: pd.Series, lower: float = 0.05, upper: float = 0.95) -> pd.Series:\n",
    "    lo = series.quantile(lower)\n",
    "    hi = series.quantile(upper)\n",
    "    return series.clip(lower=lo, upper=hi)\n",
    "\n",
    "# Quick check\n",
    "df['y_winsorized'] = winsorize_series(df['y'])\n",
    "df.head(5)"
   ]
  },
  {
   "cell_type": "markdown",
   "id": "7cd9fea3",
   "metadata": {},
   "source": [
    "## Apply Detection and Create Flags (choose a numeric column)"
   ]
  },
  {
   "cell_type": "code",
   "execution_count": 29,
   "id": "165c7039",
   "metadata": {},
   "outputs": [
    {
     "name": "stdout",
     "output_type": "stream",
     "text": [
      "boolean outlier flag: 1\n",
      "outlier_iqr\n",
      "False    199\n",
      "True       1\n",
      "Name: count, dtype: int64\n",
      "boolean outlier flag: 1\n",
      "outlier_zscore\n",
      "False    199\n",
      "True       1\n",
      "Name: count, dtype: int64\n"
     ]
    }
   ],
   "source": [
    "target_col = 'y' if 'y' in df.columns else df.select_dtypes(include=['number']).columns[0]\n",
    "df['outlier_iqr'] = detect_outliers_iqr(df[target_col])\n",
    "df['outlier_z'] = detect_outliers_zscore(df[target_col], threshold=3.0)\n",
    "df[['outlier_iqr', 'outlier_z']].mean()  # fraction flagged\n",
    "outlier_count = df['outlier_iqr'].sum()\n",
    "outlier_count = df['outlier_zscore'].sum()\n",
    "print(f\"boolean outlier flag: {outlier_count}\")\n",
    "print(df['outlier_iqr'].value_counts())\n",
    "print(f\"boolean outlier flag: {outlier_count}\")\n",
    "print(df['outlier_zscore'].value_counts())"
   ]
  },
  {
   "cell_type": "code",
   "execution_count": 39,
   "id": "6484fe58",
   "metadata": {},
   "outputs": [
    {
     "data": {
      "image/png": "[encoded data removed]",
      "text/plain": [
       "<Figure size 640x480 with 1 Axes>"
      ]
     },
     "metadata": {},
     "output_type": "display_data"
    },
    {
     "data": {
      "image/png": "[encoded data removed]",
      "text/plain": [
       "<Figure size 640x480 with 1 Axes>"
      ]
     },
     "metadata": {},
     "output_type": "display_data"
    },
    {
     "data": {
      "image/png": "[encoded data removed]",
      "text/plain": [
       "<Figure size 640x480 with 1 Axes>"
      ]
     },
     "metadata": {},
     "output_type": "display_data"
    },
    {
     "data": {
      "image/png": "[encoded data removed]",
      "text/plain": [
       "<Figure size 640x480 with 1 Axes>"
      ]
     },
     "metadata": {},
     "output_type": "display_data"
    }
   ],
   "source": [
    "# With Outliers\n",
    "plt.figure()\n",
    "plt.boxplot(df[target_col])\n",
    "plt.title(f'Boxplot: {target_col}')\n",
    "plt.show()\n",
    "\n",
    "plt.figure()\n",
    "plt.hist(df[target_col], bins=30)\n",
    "plt.title(f'Histogram: {target_col}')\n",
    "plt.show()\n",
    "\n",
    "# Without Outliers\n",
    "plt.figure()\n",
    "plt.boxplot(df['y_winsorized'])\n",
    "plt.title('Boxplot: y_winsorized')\n",
    "plt.show()\n",
    "\n",
    "plt.figure()\n",
    "plt.hist(df['y_winsorized'], bins=30)\n",
    "plt.title('Histogram: y_winsorized')\n",
    "plt.show()"
   ]
  },
  {
   "cell_type": "markdown",
   "id": "1f82b978",
   "metadata": {},
   "source": [
    "## Sensitivity Analysis"
   ]
  },
  {
   "cell_type": "code",
   "execution_count": 44,
   "id": "19886ca6",
   "metadata": {},
   "outputs": [
    {
     "data": {
      "text/html": [
       "<div>\n",
       "<style scoped>\n",
       "    .dataframe tbody tr th:only-of-type {\n",
       "        vertical-align: middle;\n",
       "    }\n",
       "\n",
       "    .dataframe tbody tr th {\n",
       "        vertical-align: top;\n",
       "    }\n",
       "\n",
       "    .dataframe thead th {\n",
       "        text-align: right;\n",
       "    }\n",
       "</style>\n",
       "<table border=\"1\" class=\"dataframe\">\n",
       "  <thead>\n",
       "    <tr style=\"text-align: right;\">\n",
       "      <th></th>\n",
       "      <th>all</th>\n",
       "      <th>filtered_iqr</th>\n",
       "      <th>winsorized</th>\n",
       "    </tr>\n",
       "  </thead>\n",
       "  <tbody>\n",
       "    <tr>\n",
       "      <th>mean</th>\n",
       "      <td>12.171936</td>\n",
       "      <td>12.047851</td>\n",
       "      <td>12.119643</td>\n",
       "    </tr>\n",
       "    <tr>\n",
       "      <th>median</th>\n",
       "      <td>12.349663</td>\n",
       "      <td>12.285113</td>\n",
       "      <td>12.349663</td>\n",
       "    </tr>\n",
       "    <tr>\n",
       "      <th>std</th>\n",
       "      <td>6.761378</td>\n",
       "      <td>6.546157</td>\n",
       "      <td>6.386781</td>\n",
       "    </tr>\n",
       "  </tbody>\n",
       "</table>\n",
       "</div>"
      ],
      "text/plain": [
       "              all  filtered_iqr  winsorized\n",
       "mean    12.171936     12.047851   12.119643\n",
       "median  12.349663     12.285113   12.349663\n",
       "std      6.761378      6.546157    6.386781"
      ]
     },
     "execution_count": 44,
     "metadata": {},
     "output_type": "execute_result"
    }
   ],
   "source": [
    "summ_all = df[target_col].describe()[['mean', '50%', 'std']].rename({'50%': 'median'})\n",
    "summ_filtered = df.loc[~df['outlier_iqr'], target_col].describe()[['mean', '50%', 'std']].rename({'50%': 'median'})\n",
    "summ_w = None\n",
    "if 'winsorize_series' in globals():\n",
    "    w = winsorize_series(df[target_col])\n",
    "    summ_w = w.describe()[['mean', '50%', 'std']].rename({'50%': 'median'})\n",
    "\n",
    "comp = pd.concat(\n",
    "    {\n",
    "        'all': summ_all,\n",
    "        'filtered_iqr': summ_filtered,\n",
    "        **({'winsorized': summ_w} if summ_w is not None else {})\n",
    "    }, axis=1\n",
    ")\n",
    "comp"
   ]
  },
  {
   "cell_type": "code",
   "execution_count": null,
   "id": "98a1b3b0",
   "metadata": {},
   "outputs": [
    {
     "data": {
      "text/html": [
       "<div>\n",
       "<style scoped>\n",
       "    .dataframe tbody tr th:only-of-type {\n",
       "        vertical-align: middle;\n",
       "    }\n",
       "\n",
       "    .dataframe tbody tr th {\n",
       "        vertical-align: top;\n",
       "    }\n",
       "\n",
       "    .dataframe thead th {\n",
       "        text-align: right;\n",
       "    }\n",
       "</style>\n",
       "<table border=\"1\" class=\"dataframe\">\n",
       "  <thead>\n",
       "    <tr style=\"text-align: right;\">\n",
       "      <th></th>\n",
       "      <th>slope</th>\n",
       "      <th>intercept</th>\n",
       "      <th>r2</th>\n",
       "      <th>mae</th>\n",
       "    </tr>\n",
       "  </thead>\n",
       "  <tbody>\n",
       "    <tr>\n",
       "      <th>all</th>\n",
       "      <td>2.169679</td>\n",
       "      <td>1.323542</td>\n",
       "      <td>0.871082</td>\n",
       "      <td>1.200432</td>\n",
       "    </tr>\n",
       "    <tr>\n",
       "      <th>filtered_iqr</th>\n",
       "      <td>2.136650</td>\n",
       "      <td>1.397242</td>\n",
       "      <td>0.900777</td>\n",
       "      <td>1.118809</td>\n",
       "    </tr>\n",
       "    <tr>\n",
       "      <th>winsorized</th>\n",
       "      <td>2.095902</td>\n",
       "      <td>1.640134</td>\n",
       "      <td>0.910996</td>\n",
       "      <td>1.051938</td>\n",
       "    </tr>\n",
       "  </tbody>\n",
       "</table>\n",
       "</div>"
      ],
      "text/plain": [
       "                 slope  intercept        r2       mae\n",
       "all           2.169679   1.323542  0.871082  1.200432\n",
       "filtered_iqr  2.136650   1.397242  0.900777  1.118809\n",
       "winsorized    2.095902   1.640134  0.910996  1.051938"
      ]
     },
     "execution_count": 55,
     "metadata": {},
     "output_type": "execute_result"
    }
   ],
   "source": [
    "# Option B: Simple regression (if x present)\n",
    "if 'x' in df.columns:\n",
    "    X_all = df[['x']].to_numpy()\n",
    "    y_all = df[target_col].to_numpy()\n",
    "    X_filtered = df.loc[~df['outlier_iqr'], ['x']].to_numpy()\n",
    "    y_filtered = df.loc[~df['outlier_iqr'], target_col].to_numpy()\n",
    "    X_winsorized = df[['x']].to_numpy()\n",
    "    y_winsorized = df['y_winsorized'].to_numpy()\n",
    "\n",
    "    model_all = LinearRegression().fit(X_all, y_all)\n",
    "    model_flt = LinearRegression().fit(X_filtered, y_filtered)\n",
    "    model_winsorized = LinearRegression().fit(X_winsorized, y_winsorized)\n",
    "\n",
    "    mae_all = mean_absolute_error(y_all, model_all.predict(X_all))\n",
    "    mae_flt = mean_absolute_error(y_filtered, model_flt.predict(X_filtered))\n",
    "    mae_winsorized = mean_absolute_error(y_winsorized, model_winsorized.predict(X_winsorized))\n",
    "\n",
    "    results = pd.DataFrame({\n",
    "        'slope': [model_all.coef_[0], model_flt.coef_[0], model_winsorized.coef_[0]],\n",
    "        'intercept': [model_all.intercept_, model_flt.intercept_, model_winsorized.intercept_],\n",
    "        'r2': [model_all.score(X_all, y_all), model_flt.score(X_filtered, y_filtered), model_winsorized.score(X_winsorized, y_winsorized)],\n",
    "        'mae': [mae_all, mae_flt, mae_winsorized]\n",
    "    }, index=['all', 'filtered_iqr', 'winsorized'])\n",
    "    results\n",
    "else:\n",
    "    results = None\n",
    "    print(\"No 'x' column; skip regression or engineer features.\")\n",
    "results\n",
    "plt.figure(figsize=(10, 6))"
   ]
  },
  {
   "cell_type": "markdown",
   "id": "c3ba732b",
   "metadata": {},
   "source": [
    "## Reflection: Outlier Detection and Impact Analysis\n",
    "\n",
    "Methods and Thresholds Chosen\n",
    "I used two main approaches:\n",
    "IQR Method: 1.5×IQR threshold for identifying moderate outliers\n",
    "Winsorization: 5th and 95th percentiles to cap extreme values\n",
    "\n",
    "Assumptions Behind Choices\n",
    "IQR Method: Assumes data distribution is reasonably captured by quartiles and not severely skewed\n",
    "Winsorization: Assumes extreme 5% tails are likely outliers or overly influential\n",
    "\n",
    "Observed Impacts on Results\n",
    "Summary Statistics: Mean and standard deviation decreased after treatment, while median remained stable\n",
    "Regression Results: R² improved and MAE decreased, indicating more robust models\n",
    "Visualizations: Boxplots and histograms became more symmetric, confirming outlier reduction\n",
    "\n",
    "Risks if Assumptions Are Wrong\n",
    "IQR Method: May flag too many/few outliers in skewed or multimodal data\n",
    "Winsorization: Could mask meaningful tail variation in financial or risk contexts\n",
    "Generalization: Over-aggressive removal may bias results if \"outliers\" are valid rare events\n",
    "\n",
    "Conclusion\n",
    "Outlier handling methods should be chosen based on domain knowledge and data characteristics. While IQR and winsorization are robust for many cases, it's crucial to validate assumptions and ensure processed data still reflects the real-world process accurately."
   ]
  },
  {
   "cell_type": "markdown",
   "id": "c4c1e2ac",
   "metadata": {},
   "source": []
  }
 ],
 "metadata": {
  "kernelspec": {
   "display_name": "Python(bootcamp_env)",
   "language": "python",
   "name": "bootcamp_env"
  },
  "language_info": {
   "codemirror_mode": {
    "name": "ipython",
    "version": 3
   },
   "file_extension": ".py",
   "mimetype": "text/x-python",
   "name": "python",
   "nbconvert_exporter": "python",
   "pygments_lexer": "ipython3",
   "version": "3.13.5"
  }
 },
 "nbformat": 4,
 "nbformat_minor": 5
}
