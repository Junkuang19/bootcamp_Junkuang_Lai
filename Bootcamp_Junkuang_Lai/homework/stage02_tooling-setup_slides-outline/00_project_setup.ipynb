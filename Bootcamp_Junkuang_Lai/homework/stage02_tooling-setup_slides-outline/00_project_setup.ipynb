{
 "cells": [
  {
   "cell_type": "markdown",
   "id": "d30a7c3f-1bea-4a91-ab04-6ca4cbf1fa0c",
   "metadata": {},
   "source": [
    "Environment & Config Check"
   ]
  },
  {
   "cell_type": "code",
   "execution_count": 17,
   "id": "e4e1e87a-5f1b-47ba-89f9-bcfd0f2656bf",
   "metadata": {},
   "outputs": [
    {
     "name": "stdout",
     "output_type": "stream",
     "text": [
      "Imports OK\n"
     ]
    }
   ],
   "source": [
    "try:\n",
    "    import sys, os\n",
    "    from typing import Optional\n",
    "    from pathlib import Path\n",
    "    import numpy as np\n",
    "    from dotenv import load_dotenv\n",
    "    print(\"Imports OK\")\n",
    "except Exception as e:\n",
    "    print(\"Import error:\", e)\n",
    "    raise"
   ]
  },
  {
   "cell_type": "code",
   "execution_count": 18,
   "id": "e86cab40-3c4f-4555-aa32-ecdc35e22dab",
   "metadata": {},
   "outputs": [
    {
     "name": "stdout",
     "output_type": "stream",
     "text": [
      ".env loaded (if present)\n"
     ]
    }
   ],
   "source": [
    "#check.env \n",
    "load_dotenv() \n",
    "print(\".env loaded (if present)\")"
   ]
  },
  {
   "cell_type": "code",
   "execution_count": 19,
   "id": "a17235d4-bbbc-49ef-819e-707443d91f06",
   "metadata": {},
   "outputs": [
    {
     "name": "stdout",
     "output_type": "stream",
     "text": [
      "PROJECT_ROOT: C:\\Users\\noven\\Desktop\\Github Fre-5040 Bootcamp\\bootcamp_Junkuang_Lai\\notebooks\n",
      "DATA_DIR: C:\\Users\\noven\\Desktop\\Github Fre-5040 Bootcamp\\bootcamp_Junkuang_Lai\\notebooks\\data\n"
     ]
    }
   ],
   "source": [
    "def get_key(name: str, default: Optional[str] = None) -> Optional[str]:\n",
    "    return os.getenv(name, default)\n",
    "\n",
    "PROJECT_ROOT = Path.cwd()\n",
    "DATA_DIR = PROJECT_ROOT / \"data\"\n",
    "print(\"PROJECT_ROOT:\", PROJECT_ROOT)\n",
    "print(\"DATA_DIR:\", DATA_DIR)"
   ]
  },
  {
   "cell_type": "code",
   "execution_count": 22,
   "id": "02a82462-ab33-4e03-95aa-15ec54112e04",
   "metadata": {},
   "outputs": [
    {
     "name": "stdout",
     "output_type": "stream",
     "text": [
      "API_KEY present: True\n",
      "DATA_DIR from env: ./data\n",
      "Ensured data directory exists.\n"
     ]
    }
   ],
   "source": [
    "api_key_present = bool(get_key(\"API_KEY\"))\n",
    "data_dir_env = get_key(\"DATA_DIR\", str(DATA_DIR))\n",
    "print(\"API_KEY present:\", api_key_present)\n",
    "print(\"DATA_DIR from env:\", data_dir_env)\n",
    "\n",
    "Path(data_dir_env).mkdir(parents=True, exist_ok=True)\n",
    "print(\"Ensured data directory exists.\")"
   ]
  },
  {
   "cell_type": "code",
   "execution_count": 23,
   "id": "4721411f-8172-4a10-9ccd-d39074c28f62",
   "metadata": {},
   "outputs": [
    {
     "name": "stdout",
     "output_type": "stream",
     "text": [
      "Array: [1 2 3 4 5]\n",
      "Sum: 15\n"
     ]
    }
   ],
   "source": [
    "#numpy demo\n",
    "arr = np.array([1, 2, 3, 4, 5])\n",
    "print(\"Array:\", arr)\n",
    "print(\"Sum:\", arr.sum())\n",
    "\n",
    "# this returns some basic operations from numpy."
   ]
  },
  {
   "cell_type": "code",
   "execution_count": 24,
   "id": "f0cd0605-0086-433c-b697-be6f72a0795d",
   "metadata": {},
   "outputs": [
    {
     "name": "stdout",
     "output_type": "stream",
     "text": [
      "Note: you may need to restart the kernel to use updated packages.\n"
     ]
    }
   ],
   "source": [
    "pip freeze > requirements.txt"
   ]
  },
  {
   "cell_type": "code",
   "execution_count": 29,
   "id": "17c6f1ac-3d9d-40d2-8655-d4d458a9f635",
   "metadata": {},
   "outputs": [
    {
     "name": "stdout",
     "output_type": "stream",
     "text": [
      "text exist & is non-empty \n"
     ]
    }
   ],
   "source": [
    "#check requirements txt\n",
    "if os.path.exists('requirements.txt'):\n",
    "    size = os.path.getsize('requirements.txt')\n",
    "    if size > 0:\n",
    "        print(f\"text exist & is non-empty \")\n",
    "    else:\n",
    "        print(\"text exist but empty\")\n",
    "else:\n",
    "    print(\"text non-exist\")"
   ]
  },
  {
   "cell_type": "code",
   "execution_count": null,
   "id": "03ac6e72-fe65-4890-813c-7a046d2ee117",
   "metadata": {},
   "outputs": [],
   "source": []
  }
 ],
 "metadata": {
  "kernelspec": {
   "display_name": "Python(bootcamp_env)",
   "language": "python",
   "name": "bootcamp_env"
  },
  "language_info": {
   "codemirror_mode": {
    "name": "ipython",
    "version": 3
   },
   "file_extension": ".py",
   "mimetype": "text/x-python",
   "name": "python",
   "nbconvert_exporter": "python",
   "pygments_lexer": "ipython3",
   "version": "3.13.5"
  }
 },
 "nbformat": 4,
 "nbformat_minor": 5
}
