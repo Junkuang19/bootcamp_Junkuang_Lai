{
 "cells": [
  {
   "cell_type": "markdown",
   "id": "8bb9245a-f36b-41a6-baef-4a8d162a12cf",
   "metadata": {},
   "source": [
    "# Data Acquisition and Ingestion"
   ]
  },
  {
   "cell_type": "code",
   "execution_count": 1,
   "id": "c1c37614-2d74-4422-bf42-4f8ad5268dc3",
   "metadata": {},
   "outputs": [],
   "source": [
    "# Import libraries\n",
    "import os, pathlib, pandas as pd, requests\n",
    "from dotenv import load_dotenv\n",
    "from bs4 import BeautifulSoup\n",
    "\n",
    "# Set up data directory\n",
    "DATA_RAW = pathlib.Path('data/raw')\n",
    "DATA_RAW.mkdir(parents=True, exist_ok=True)\n",
    "\n",
    "# Load API key from .env\n",
    "load_dotenv()\n",
    "ALPHA_KEY = os.getenv('ALPHAVANTAGE_API_KEY')"
   ]
  },
  {
   "cell_type": "code",
   "execution_count": 2,
   "id": "c3a36aec-4f67-4f59-a92d-e8fb87b087cf",
   "metadata": {},
   "outputs": [],
   "source": [
    "# Helper: validate DataFrame\n",
    "def validate_df(df, required_cols, dtypes_map):\n",
    "    msgs = {}\n",
    "    missing = [c for c in required_cols if c not in df.columns]\n",
    "    if missing:\n",
    "        msgs['missing_cols'] = missing\n",
    "    for col, dtype in dtypes_map.items():\n",
    "        if col in df.columns:\n",
    "            try:\n",
    "                if dtype == 'datetime64[ns]':\n",
    "                    pd.to_datetime(df[col])\n",
    "                elif dtype == 'float':\n",
    "                    pd.to_numeric(df[col])\n",
    "            except Exception as e:\n",
    "                msgs[f'dtype_{col}'] = str(e)\n",
    "    msgs['na_total'] = int(df.isna().sum().sum())\n",
    "    msgs['shape'] = df.shape\n",
    "    return msgs"
   ]
  },
  {
   "cell_type": "code",
   "execution_count": 3,
   "id": "966abb40-d14a-4bd5-93db-f369c96f30de",
   "metadata": {
    "scrolled": true
   },
   "outputs": [
    {
     "name": "stderr",
     "output_type": "stream",
     "text": [
      "[*********************100%***********************]  1 of 1 completed\n"
     ]
    }
   ],
   "source": [
    "## Download stock data from API or yfinance\n",
    "SYMBOL = 'NVDA'\n",
    "if ALPHA_KEY:\n",
    "    url = 'https://www.alphavantage.co/query'\n",
    "    params = {\n",
    "        'function': 'TIME_SERIES_DAILY_ADJUSTED',\n",
    "        'symbol': SYMBOL,\n",
    "        'outputsize': 'compact',\n",
    "        'apikey': ALPHA_KEY,\n",
    "        'datatype': 'json'\n",
    "    }\n",
    "    r = requests.get(url, params=params, timeout=30)\n",
    "    r.raise_for_status()\n",
    "    js = r.json()\n",
    "    key = [k for k in js.keys() if 'Time Series' in k][0]\n",
    "    series = js[key]\n",
    "    df_api = pd.DataFrame(series).T.rename_axis('date').reset_index()\n",
    "    df_api = df_api[['date', '5. adjusted close']].rename(columns={'5. adjusted close': 'adj_close'})\n",
    "    df_api['date'] = pd.to_datetime(df_api['date'])\n",
    "    df_api['adj_close'] = pd.to_numeric(df_api['adj_close'])\n",
    "else:\n",
    "    import yfinance as yf\n",
    "    df_api = yf.download(SYMBOL, period='6mo', interval='1d',auto_adjust=True).reset_index()\n",
    "    # Use 'Adj Close' if present, else use 'Close'\n",
    "    if 'Adj Close' in df_api.columns:\n",
    "        df_api = df_api[['Date', 'Adj Close']]\n",
    "        df_api.columns = ['date', 'adj_close']\n",
    "    elif 'Close' in df_api.columns:\n",
    "        df_api = df_api[['Date', 'Close']]\n",
    "        df_api.columns = ['date', 'adj_close']\n",
    "    else:\n",
    "        raise ValueError(\"No 'Adj Close' or 'Close' column found in yfinance data\")"
   ]
  },
  {
   "cell_type": "code",
   "execution_count": 25,
   "id": "56c49702-7498-4f09-9940-2f78afda729a",
   "metadata": {},
   "outputs": [
    {
     "name": "stdout",
     "output_type": "stream",
     "text": [
      "{'shape': (125, 2), 'na_total': np.int64(0), 'dtype_mismatch_adj_close': 'Expected float, got float64'}\n"
     ]
    }
   ],
   "source": [
    "# Validate and save API data\n",
    "msgs = validate_df(df_api, ['date','adj_close'], {'date':'datetime64[ns]','adj_close':'float'})\n",
    "print(msgs)\n",
    "df_api.to_csv(DATA_RAW / 'api_aapl.csv', index=False)"
   ]
  },
  {
   "cell_type": "code",
   "execution_count": 29,
   "id": "8fb4dd58-10e2-4ac1-8ec1-a46ad36847f2",
   "metadata": {},
   "outputs": [
    {
     "name": "stdout",
     "output_type": "stream",
     "text": [
      "Successfully scraped NVDA monthly data from Alpha Vantage API\n",
      "{'shape': (309, 5), 'na_total': np.int64(0)}\n",
      "Saved: data\\scrape_site_example_table_markets_20250818_044718.csv\n"
     ]
    }
   ],
   "source": [
    "import requests\n",
    "import pandas as pd\n",
    "from bs4 import BeautifulSoup\n",
    "from pathlib import Path\n",
    "import os\n",
    "from datetime import datetime\n",
    "import re\n",
    "import json\n",
    "\n",
    "# Define missing functions\n",
    "def validate_df(df, required_cols=None, dtypes_map=None):\n",
    "    \"\"\"Validate dataframe and return validation messages\"\"\"\n",
    "    msgs = {}\n",
    "    \n",
    "    # Check shape\n",
    "    msgs['shape'] = df.shape\n",
    "    \n",
    "    # Check for NA values\n",
    "    msgs['na_total'] = df.isna().sum().sum()\n",
    "    \n",
    "    # Check required columns\n",
    "    if required_cols:\n",
    "        missing_cols = set(required_cols) - set(df.columns)\n",
    "        if missing_cols:\n",
    "            msgs['missing_cols'] = list(missing_cols)\n",
    "    \n",
    "    # Check data types\n",
    "    if dtypes_map:\n",
    "        for col, expected_dtype in dtypes_map.items():\n",
    "            if col in df.columns:\n",
    "                actual_dtype = str(df[col].dtype)\n",
    "                if actual_dtype != expected_dtype:\n",
    "                    msgs[f'dtype_mismatch_{col}'] = f\"Expected {expected_dtype}, got {actual_dtype}\"\n",
    "    \n",
    "    return msgs\n",
    "\n",
    "def safe_filename(prefix=\"data\", meta=None):\n",
    "    \"\"\"Generate a safe filename with timestamp and metadata\"\"\"\n",
    "    timestamp = datetime.now().strftime(\"%Y%m%d_%H%M%S\")\n",
    "    \n",
    "    if meta:\n",
    "        meta_str = \"_\".join([f\"{k}_{v}\" for k, v in meta.items()])\n",
    "        filename = f\"{prefix}_{meta_str}_{timestamp}.csv\"\n",
    "    else:\n",
    "        filename = f\"{prefix}_{timestamp}.csv\"\n",
    "    \n",
    "    # Remove any unsafe characters\n",
    "    filename = re.sub(r'[<>:\"/\\\\|?*]', '_', filename)\n",
    "    return filename\n",
    "\n",
    "# Define data directory\n",
    "DATA_RAW = Path(\"./data\")\n",
    "DATA_RAW.mkdir(exist_ok=True)\n",
    "\n",
    "# Your scraping code - Modified to handle Alpha Vantage JSON API\n",
    "SCRAPE_URL = \"https://www.alphavantage.co/query?function=TIME_SERIES_MONTHLY&symbol=nvda&apikey=Q5H86S3MHIMLXE51\" \n",
    "headers = {\"User-Agent\": \"AFE-Course-Notebook/1.0 (contact: instructor@example.edu)\"}\n",
    "\n",
    "try:\n",
    "    resp = requests.get(SCRAPE_URL, headers=headers, timeout=30)\n",
    "    resp.raise_for_status()\n",
    "    \n",
    "    # Parse JSON response from Alpha Vantage API\n",
    "    data = resp.json()\n",
    "    \n",
    "    # Check if we have monthly time series data\n",
    "    if 'Monthly Time Series' in data:\n",
    "        monthly_data = data['Monthly Time Series']\n",
    "        df_scrape = pd.DataFrame.from_dict(monthly_data, orient='index')\n",
    "        \n",
    "        # Rename columns to be more descriptive\n",
    "        df_scrape.columns = ['Open', 'High', 'Low', 'Close', 'Volume']\n",
    "        \n",
    "        # Convert data types to numeric\n",
    "        for col in ['Open', 'High', 'Low', 'Close', 'Volume']:\n",
    "            df_scrape[col] = pd.to_numeric(df_scrape[col], errors='coerce')\n",
    "        \n",
    "        print(\"Successfully scraped NVDA monthly data from Alpha Vantage API\")\n",
    "        \n",
    "    elif 'Error Message' in data:\n",
    "        raise ValueError(f\"API Error: {data['Error Message']}\")\n",
    "    else:\n",
    "        raise ValueError(\"No monthly time series data found in API response\")\n",
    "        \n",
    "except Exception as e:\n",
    "    print(\"API call failed (demoing with inline HTML).\", e)\n",
    "    html = \"\"\"\n",
    "    <table>\n",
    "      <tr><th>Ticker</th><th>Price</th></tr>\n",
    "      <tr><td>AAA</td><td>101.2</td></tr>\n",
    "      <tr><td>BBB</td><td>98.7</td></tr>\n",
    "    </table>\n",
    "    \"\"\"\n",
    "    soup = BeautifulSoup(html, 'html.parser')\n",
    "    rows = []\n",
    "    for tr in soup.find_all('tr'):\n",
    "        cells = [td.get_text(strip=True) for td in tr.find_all(['td','th'])]\n",
    "        if cells:\n",
    "            rows.append(cells)\n",
    "    header, *data = rows\n",
    "    df_scrape = pd.DataFrame(data, columns=header)\n",
    "\n",
    "if 'Price' in df_scrape.columns:\n",
    "    df_scrape['Price'] = pd.to_numeric(df_scrape['Price'], errors='coerce')\n",
    "\n",
    "msgs2 = validate_df(df_scrape, required_cols=list(df_scrape.columns), dtypes_map={})\n",
    "print(msgs2)\n",
    "\n",
    "fname2 = safe_filename(prefix=\"scrape\", meta={\"site\": \"example\", \"table\": \"markets\"})\n",
    "out_path2 = DATA_RAW / fname2\n",
    "df_scrape.to_csv(out_path2, index=False)\n",
    "print(\"Saved:\", out_path2)"
   ]
  },
  {
   "cell_type": "code",
   "execution_count": null,
   "id": "de69f4fc-c135-4b61-bf67-56e829f64665",
   "metadata": {},
   "outputs": [],
   "source": []
  }
 ],
 "metadata": {
  "kernelspec": {
   "display_name": "Python(bootcamp_env)",
   "language": "python",
   "name": "bootcamp_env"
  },
  "language_info": {
   "codemirror_mode": {
    "name": "ipython",
    "version": 3
   },
   "file_extension": ".py",
   "mimetype": "text/x-python",
   "name": "python",
   "nbconvert_exporter": "python",
   "pygments_lexer": "ipython3",
   "version": "3.13.5"
  }
 },
 "nbformat": 4,
 "nbformat_minor": 5
}
