{
 "cells": [
  {
   "cell_type": "markdown",
   "id": "2a4298a8-3941-485d-89d2-8d9315ef3db1",
   "metadata": {},
   "source": [
    "# Stage 01: Problem Framing & Scoping\n",
    "\n",
    "Goal: Enable individual investors to analyze and predict NVDA stock trends for the future using open data and reproducible analytics.\n",
    "\n",
    "Data Dictionary:\n",
    "\n",
    "Date: Trading day\n",
    "Open: Opening price\n",
    "High: Highest price\n",
    "Low: Lowest price\n",
    "Close: Closing price\n",
    "Volume: Trading volume\n",
    "\n",
    "Methodology:\n",
    "\n",
    "Acquire daily OHLCV data for NVDA (2023-2025)\n",
    "Clean, analyze, and model the data for trend detection and prediction"
   ]
  }
 ],
 "metadata": {
  "kernelspec": {
   "display_name": "Python(bootcamp_env)",
   "language": "python",
   "name": "bootcamp_env"
  },
  "language_info": {
   "codemirror_mode": {
    "name": "ipython",
    "version": 3
   },
   "file_extension": ".py",
   "mimetype": "text/x-python",
   "name": "python",
   "nbconvert_exporter": "python",
   "pygments_lexer": "ipython3",
   "version": "3.13.5"
  }
 },
 "nbformat": 4,
 "nbformat_minor": 5
}
