{
 "cells": [
  {
   "cell_type": "markdown",
   "id": "2a4298a8-3941-485d-89d2-8d9315ef3db1",
   "metadata": {},
   "source": [
    "# Stage 01: Problem Framing & Scoping\n",
    "\n",
    "Goal: Enable individual investors to analyze and predict NVDA stock trends for the future using open data and reproducible analytics.\n",
    "\n",
    "Data Dictionary:\n",
    "\n",
    "Date: Trading day\n",
    "Open: Opening price\n",
    "High: Highest price\n",
    "Low: Lowest price\n",
    "Close: Closing price\n",
    "Volume: Trading volume\n",
    "\n",
    "Methodology:\n",
    "\n",
    "Acquire daily OHLCV data for NVDA (2023-2025)\n",
    "Clean, analyze, and model the data for trend detection and prediction"
   ]
  },
  {
   "cell_type": "markdown",
   "id": "a8332c50",
   "metadata": {},
   "source": [
    "# Stage02：tooling_setup\n",
    "\n"
   ]
  },
  {
   "cell_type": "code",
   "execution_count": 9,
   "id": "e34d72c0",
   "metadata": {},
   "outputs": [
    {
     "name": "stdout",
     "output_type": "stream",
     "text": [
      ".env loaded (if present)\n",
      "PROJECT_ROOT: c:\\Users\\noven\\Desktop\\Github Fre-5040 Bootcamp\\bootcamp_Junkuang_Lai\\Bootcamp_Junkuang_Lai\\project\\notebooks\n",
      "DATA_DIR: c:\\Users\\noven\\Desktop\\Github Fre-5040 Bootcamp\\bootcamp_Junkuang_Lai\\Bootcamp_Junkuang_Lai\\project\\notebooks\\data\n",
      "text exist & is non-empty \n"
     ]
    }
   ],
   "source": [
    "# Environment & Setup Quick Check\n",
    "from pathlib import Path\n",
    "import os, sys\n",
    "from dotenv import load_dotenv\n",
    "\n",
    "#check.env \n",
    "load_dotenv() \n",
    "print(\".env loaded (if present)\")\n",
    "\n",
    "# Define project directories\n",
    "PROJECT_ROOT = Path.cwd()\n",
    "DATA_DIR = PROJECT_ROOT / \"data\"\n",
    "print(\"PROJECT_ROOT:\", PROJECT_ROOT)\n",
    "print(\"DATA_DIR:\", DATA_DIR)\n",
    "\n",
    "#check requirements txt\n",
    "if os.path.exists('requirements.txt'):\n",
    "    size = os.path.getsize('requirements.txt')\n",
    "    if size > 0:\n",
    "        print(f\"text exist & is non-empty \")\n",
    "    else:\n",
    "        print(\"text exist but empty\")\n",
    "else:\n",
    "    print(\"text non-exist\")\n"
   ]
  },
  {
   "cell_type": "code",
   "execution_count": null,
   "id": "d91b992b",
   "metadata": {},
   "outputs": [],
   "source": []
  }
 ],
 "metadata": {
  "kernelspec": {
   "display_name": "Python(bootcamp_env)",
   "language": "python",
   "name": "bootcamp_env"
  },
  "language_info": {
   "codemirror_mode": {
    "name": "ipython",
    "version": 3
   },
   "file_extension": ".py",
   "mimetype": "text/x-python",
   "name": "python",
   "nbconvert_exporter": "python",
   "pygments_lexer": "ipython3",
   "version": "3.13.5"
  }
 },
 "nbformat": 4,
 "nbformat_minor": 5
}
