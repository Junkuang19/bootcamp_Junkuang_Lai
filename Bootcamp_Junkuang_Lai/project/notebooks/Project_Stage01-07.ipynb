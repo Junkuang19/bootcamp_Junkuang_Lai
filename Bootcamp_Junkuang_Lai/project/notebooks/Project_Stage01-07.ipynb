{
 "cells": [
  {
   "cell_type": "markdown",
   "id": "2a4298a8-3941-485d-89d2-8d9315ef3db1",
   "metadata": {},
   "source": [
    "# Stage 01: Problem Framing & Scoping\n",
    "Goal: Enable individual investors to analyze and predict NVDA stock trends for the future using open data and reproducible analytics.\n",
    "\n",
    "### Data Dictionary:\n",
    "+ Date: Trading day\n",
    "+ Open: Opening price\n",
    "+ High: Highest price\n",
    "+ Low: Lowest price\n",
    "+ Close: Closing price\n",
    "+ Volume: Trading volume\n",
    "\n",
    "### Methodology:\n",
    "\n",
    "Acquire daily OHLCV data for NVDA (2023-2025)\n",
    "Clean, analyze, and model the data for trend detection and prediction"
   ]
  },
  {
   "cell_type": "markdown",
   "id": "a8332c50",
   "metadata": {},
   "source": [
    "# Stage02：tooling_setup"
   ]
  },
  {
   "cell_type": "code",
   "execution_count": 36,
   "id": "e34d72c0",
   "metadata": {},
   "outputs": [
    {
     "name": "stdout",
     "output_type": "stream",
     "text": [
      ".env loaded (if present)\n",
      "PROJECT_ROOT: c:\\Users\\noven\\Desktop\\Github Fre-5040 Bootcamp\\bootcamp_Junkuang_Lai\\Bootcamp_Junkuang_Lai\\project\\notebooks\n",
      "DATA_DIR: c:\\Users\\noven\\Desktop\\Github Fre-5040 Bootcamp\\bootcamp_Junkuang_Lai\\Bootcamp_Junkuang_Lai\\project\\notebooks\\data\n",
      "API_KEY is set\n",
      "text exist & is non-empty \n"
     ]
    }
   ],
   "source": [
    "# Environment & Setup Quick Check\n",
    "from pathlib import Path\n",
    "import os, sys\n",
    "from dotenv import load_dotenv\n",
    "\n",
    "#check.env \n",
    "load_dotenv() \n",
    "print(\".env loaded (if present)\")\n",
    "\n",
    "# Define project directories\n",
    "PROJECT_ROOT = Path.cwd()\n",
    "DATA_DIR = PROJECT_ROOT / \"data\"\n",
    "print(\"PROJECT_ROOT:\", PROJECT_ROOT)\n",
    "print(\"DATA_DIR:\", DATA_DIR)\n",
    "\n",
    "#check api key\n",
    "API_KEY = os.getenv(\"API_KEY\")\n",
    "if API_KEY:\n",
    "    print(\"API_KEY is set\")\n",
    "else:\n",
    "    print(\"API_KEY is not set\")\n",
    "\n",
    "#check requirements txt\n",
    "if os.path.exists('requirements.txt'):\n",
    "    size = os.path.getsize('requirements.txt')\n",
    "    if size > 0:\n",
    "        print(f\"text exist & is non-empty \")\n",
    "    else:\n",
    "        print(\"text exist but empty\")\n",
    "else:\n",
    "    print(\"text non-exist\")\n"
   ]
  },
  {
   "cell_type": "markdown",
   "id": "b038737c",
   "metadata": {},
   "source": [
    "# Stage03：Python_fundamentals"
   ]
  },
  {
   "cell_type": "code",
   "execution_count": null,
   "id": "a0c6336b",
   "metadata": {},
   "outputs": [
    {
     "name": "stdout",
     "output_type": "stream",
     "text": [
      "Looking for data file at: c:\\Users\\noven\\Desktop\\Github Fre-5040 Bootcamp\\bootcamp_Junkuang_Lai\\Bootcamp_Junkuang_Lai\\project\\data\\raw\\NVDA-Starter Data 2021-2025 Daily.csv\n",
      "File exists: True\n",
      "Dataset loading:\n",
      "            time     open       high        low    close\n",
      "0    2023-04-25   27.078   27.24700   26.22500   26.241\n",
      "1    2023-04-26   27.002   27.33000   26.70510   26.956\n",
      "2    2023-04-27   27.363   27.49500   26.62501   27.226\n",
      "3    2023-04-28   27.225   27.75800   27.07148   27.749\n",
      "4    2023-05-01   27.840   29.05844   27.78000   28.910\n",
      "..          ...      ...        ...        ...      ...\n",
      "579  2025-08-15  181.880  181.90000  178.04170  180.450\n",
      "580  2025-08-18  180.600  182.93750  180.59000  182.010\n",
      "581  2025-08-19  182.430  182.50000  175.49000  175.640\n",
      "582  2025-08-20  175.165  176.00000  168.80100  175.400\n",
      "583  2025-08-21  174.850  176.90000  173.81000  174.980\n",
      "\n",
      "[584 rows x 5 columns]\n",
      "<class 'pandas.core.frame.DataFrame'>\n",
      "RangeIndex: 584 entries, 0 to 583\n",
      "Data columns (total 5 columns):\n",
      " #   Column  Non-Null Count  Dtype  \n",
      "---  ------  --------------  -----  \n",
      " 0   time    584 non-null    object \n",
      " 1   open    584 non-null    float64\n",
      " 2   high    584 non-null    float64\n",
      " 3   low     584 non-null    float64\n",
      " 4   close   584 non-null    float64\n",
      "dtypes: float64(4), object(1)\n",
      "memory usage: 22.9+ KB\n",
      "None\n",
      "         time    open      high       low   close\n",
      "0  2023-04-25  27.078  27.24700  26.22500  26.241\n",
      "1  2023-04-26  27.002  27.33000  26.70510  26.956\n",
      "2  2023-04-27  27.363  27.49500  26.62501  27.226\n",
      "3  2023-04-28  27.225  27.75800  27.07148  27.749\n",
      "4  2023-05-01  27.840  29.05844  27.78000  28.910\n",
      "Summary Statistics:\n",
      "              open        high         low       close\n",
      "count  584.000000  584.000000  584.000000  584.000000\n",
      "mean    96.514280   98.173940   94.645669   96.509405\n",
      "std     42.992931   43.560167   42.219316   42.922049\n",
      "min     27.002000   27.247000   26.225000   26.241000\n",
      "25%     48.107250   48.544250   47.396500   47.953750\n",
      "50%    105.057500  108.860000  103.055000  106.469500\n",
      "75%    132.437500  135.000000  129.675000  131.910000\n",
      "max    182.960000  184.480000  180.590000  183.160000\n"
     ]
    }
   ],
   "source": [
    "from pathlib import Path\n",
    "import pandas as pd\n",
    "\n",
    "# load dataset\n",
    "project_root = Path.cwd().parent\n",
    "data_path = project_root / \"data\" / \"raw\" / \"NVDA-Starter Data 2021-2025 Daily.csv\"\n",
    "\n",
    "print(\"Looking for data file at:\", data_path)\n",
    "print(\"File exists:\", data_path.exists())\n",
    "\n",
    "df = pd.read_csv(data_path)\n",
    "\n",
    "# Dataset quick check\n",
    "print(\"Dataset loading:\\n\", df)\n",
    "print(df.info())\n",
    "print(df.head())\n",
    "print(\"Summary Statistics:\\n\", df.describe())"
   ]
  },
  {
   "cell_type": "code",
   "execution_count": null,
   "id": "5f815872",
   "metadata": {},
   "outputs": [
    {
     "name": "stdout",
     "output_type": "stream",
     "text": [
      "Function calc_mean_std_logged called at 2025-08-23 09:42:46.217032\n",
      "Function calc_mean_std_logged called at 2025-08-23 09:42:46.217559\n",
      "(np.float64(3.0), np.float64(1.4142135623730951))\n"
     ]
    }
   ],
   "source": [
    "# src\\utils demo\n",
    "import sys\n",
    "\n",
    "src_path = Path.cwd().parent / \"src\"\n",
    "sys.path.append(str(src_path))\n",
    "\n",
    "from utils import calc_mean_std_logged  \n",
    "\n",
    "# utils example \n",
    "print(calc_mean_std_logged([1, 2, 3, 4, 5]))"
   ]
  },
  {
   "cell_type": "code",
   "execution_count": 57,
   "id": "c1749794",
   "metadata": {},
   "outputs": [
    {
     "name": "stdout",
     "output_type": "stream",
     "text": [
      "Column names: ['time', 'open', 'high', 'low', 'close']\n",
      "Number of rows: 584\n",
      "               open               \n",
      "               mean      sum count\n",
      "time                              \n",
      "2023-04-25  27.0780  27.0780     1\n",
      "2023-04-26  27.0020  27.0020     1\n",
      "2023-04-27  27.3630  27.3630     1\n",
      "2023-04-28  27.2250  27.2250     1\n",
      "2023-05-01  27.8400  27.8400     1\n",
      "2023-05-02  28.6800  28.6800     1\n",
      "2023-05-03  27.8400  27.8400     1\n",
      "2023-05-04  27.6510  27.6510     1\n",
      "2023-05-05  27.8255  27.8255     1\n",
      "2023-05-08  28.5220  28.5220     1\n"
     ]
    }
   ],
   "source": [
    "#summarize the dataset\n",
    "print(\"Column names:\", df.columns.tolist())\n",
    "print(\"Number of rows:\", len(df))\n",
    "\n",
    "def df_Summary():\n",
    "    return df.groupby(df.columns[0]).agg({\n",
    "        df.columns[1]: ['mean', 'sum', 'count']\n",
    "    })\n",
    "\n",
    "#Quick check example\n",
    "print(df_Summary().head(10))\n"
   ]
  },
  {
   "cell_type": "code",
   "execution_count": null,
   "id": "c2391a55",
   "metadata": {},
   "outputs": [
    {
     "name": "stdout",
     "output_type": "stream",
     "text": [
      "Summary stats saved to c:\\Users\\noven\\Desktop\\Github Fre-5040 Bootcamp\\bootcamp_Junkuang_Lai\\Bootcamp_Junkuang_Lai\\project\\data\\processed\\summary.csv\n"
     ]
    }
   ],
   "source": [
    "#To keep the dataset integrity, I will save all to the summary.csv file\n",
    "project_root = Path.cwd().parent\n",
    "processed_dir = project_root / \"data\" / \"processed\"\n",
    "processed_dir.mkdir(parents=True, exist_ok=True)\n",
    "\n",
    "summary_stats = df.describe()\n",
    "summary_stats.to_csv(processed_dir / \"summary.csv\")\n",
    "print(f\"Summary stats saved to {processed_dir / 'summary.csv'}\")"
   ]
  },
  {
   "cell_type": "markdown",
   "id": "aac78c30",
   "metadata": {},
   "source": [
    "# Stage04：Data Acquisition and Ingestion\n",
    "\n",
    "+ The NVDA dataset for the project has downloaded in homework time, therefore the script below is to demonstrate for milestone requirements"
   ]
  },
  {
   "cell_type": "code",
   "execution_count": null,
   "id": "6a8c8fc4",
   "metadata": {},
   "outputs": [
    {
     "name": "stderr",
     "output_type": "stream",
     "text": [
      "[*********************100%***********************]  1 of 1 completed\n"
     ]
    },
    {
     "data": {
      "text/html": [
       "<div>\n",
       "<style scoped>\n",
       "    .dataframe tbody tr th:only-of-type {\n",
       "        vertical-align: middle;\n",
       "    }\n",
       "\n",
       "    .dataframe tbody tr th {\n",
       "        vertical-align: top;\n",
       "    }\n",
       "\n",
       "    .dataframe thead th {\n",
       "        text-align: right;\n",
       "    }\n",
       "</style>\n",
       "<table border=\"1\" class=\"dataframe\">\n",
       "  <thead>\n",
       "    <tr style=\"text-align: right;\">\n",
       "      <th></th>\n",
       "      <th>date</th>\n",
       "      <th>adj_close</th>\n",
       "    </tr>\n",
       "  </thead>\n",
       "  <tbody>\n",
       "    <tr>\n",
       "      <th>0</th>\n",
       "      <td>2025-02-24</td>\n",
       "      <td>130.258972</td>\n",
       "    </tr>\n",
       "    <tr>\n",
       "      <th>1</th>\n",
       "      <td>2025-02-25</td>\n",
       "      <td>126.609558</td>\n",
       "    </tr>\n",
       "    <tr>\n",
       "      <th>2</th>\n",
       "      <td>2025-02-26</td>\n",
       "      <td>131.258820</td>\n",
       "    </tr>\n",
       "    <tr>\n",
       "      <th>3</th>\n",
       "      <td>2025-02-27</td>\n",
       "      <td>120.130608</td>\n",
       "    </tr>\n",
       "    <tr>\n",
       "      <th>4</th>\n",
       "      <td>2025-02-28</td>\n",
       "      <td>124.899834</td>\n",
       "    </tr>\n",
       "  </tbody>\n",
       "</table>\n",
       "</div>"
      ],
      "text/plain": [
       "        date   adj_close\n",
       "0 2025-02-24  130.258972\n",
       "1 2025-02-25  126.609558\n",
       "2 2025-02-26  131.258820\n",
       "3 2025-02-27  120.130608\n",
       "4 2025-02-28  124.899834"
      ]
     },
     "execution_count": 74,
     "metadata": {},
     "output_type": "execute_result"
    }
   ],
   "source": [
    "# Download stock data from yfinance\n",
    "SYMBOL = 'NVDA'\n",
    "import yfinance as yf\n",
    "df_api = yf.download(SYMBOL, period='6mo', interval='1d', auto_adjust=True).reset_index()\n",
    "# Use 'Adj Close' if present, else use 'Close'\n",
    "if 'Adj Close' in df_api.columns:\n",
    "    df_api = df_api[['Date', 'Adj Close']]\n",
    "    df_api.columns = ['date', 'adj_close']\n",
    "elif 'Close' in df_api.columns:\n",
    "    df_api = df_api[['Date', 'Close']]\n",
    "    df_api.columns = ['date', 'adj_close']\n",
    "else:\n",
    "    raise ValueError(\"No 'Adj Close' or 'Close' column found in yfinance data\")\n",
    "\n",
    "# Quick check\n",
    "df_api.head()\n"
   ]
  },
  {
   "cell_type": "markdown",
   "id": "66e7120d",
   "metadata": {},
   "source": [
    "# Stage05：Data Storage\n",
    "\n",
    "+ The NVDA dataset for the project has storaged in homework time, therefore the script below is to demonstrate for milestone requirements"
   ]
  },
  {
   "cell_type": "code",
   "execution_count": 12,
   "id": "5df5c65c",
   "metadata": {},
   "outputs": [
    {
     "data": {
      "text/html": [
       "<div>\n",
       "<style scoped>\n",
       "    .dataframe tbody tr th:only-of-type {\n",
       "        vertical-align: middle;\n",
       "    }\n",
       "\n",
       "    .dataframe tbody tr th {\n",
       "        vertical-align: top;\n",
       "    }\n",
       "\n",
       "    .dataframe thead th {\n",
       "        text-align: right;\n",
       "    }\n",
       "</style>\n",
       "<table border=\"1\" class=\"dataframe\">\n",
       "  <thead>\n",
       "    <tr style=\"text-align: right;\">\n",
       "      <th></th>\n",
       "      <th>date</th>\n",
       "      <th>ticker</th>\n",
       "      <th>price</th>\n",
       "    </tr>\n",
       "  </thead>\n",
       "  <tbody>\n",
       "    <tr>\n",
       "      <th>0</th>\n",
       "      <td>2024-01-01</td>\n",
       "      <td>NVDA</td>\n",
       "      <td>150.288041</td>\n",
       "    </tr>\n",
       "    <tr>\n",
       "      <th>1</th>\n",
       "      <td>2024-01-02</td>\n",
       "      <td>NVDA</td>\n",
       "      <td>149.921512</td>\n",
       "    </tr>\n",
       "    <tr>\n",
       "      <th>2</th>\n",
       "      <td>2024-01-03</td>\n",
       "      <td>NVDA</td>\n",
       "      <td>147.967814</td>\n",
       "    </tr>\n",
       "    <tr>\n",
       "      <th>3</th>\n",
       "      <td>2024-01-04</td>\n",
       "      <td>NVDA</td>\n",
       "      <td>147.127902</td>\n",
       "    </tr>\n",
       "    <tr>\n",
       "      <th>4</th>\n",
       "      <td>2024-01-05</td>\n",
       "      <td>NVDA</td>\n",
       "      <td>147.133487</td>\n",
       "    </tr>\n",
       "  </tbody>\n",
       "</table>\n",
       "</div>"
      ],
      "text/plain": [
       "        date ticker       price\n",
       "0 2024-01-01   NVDA  150.288041\n",
       "1 2024-01-02   NVDA  149.921512\n",
       "2 2024-01-03   NVDA  147.967814\n",
       "3 2024-01-04   NVDA  147.127902\n",
       "4 2024-01-05   NVDA  147.133487"
      ]
     },
     "execution_count": 12,
     "metadata": {},
     "output_type": "execute_result"
    }
   ],
   "source": [
    "# Save NVDA random parquet file\n",
    "import datetime as dt\n",
    "import pandas as pd\n",
    "import numpy as np  \n",
    "from pathlib import Path\n",
    "\n",
    "dates = pd.date_range('2024-01-01', periods=30, freq='D')\n",
    "df = pd.DataFrame({'date': dates, 'ticker': ['NVDA']*30, 'price': 150 + np.random.randn(30).cumsum()})\n",
    "df.head()"
   ]
  },
  {
   "cell_type": "code",
   "execution_count": 13,
   "id": "c536b857",
   "metadata": {},
   "outputs": [
    {
     "data": {
      "text/plain": [
       "WindowsPath('c:/Users/noven/Desktop/Github Fre-5040 Bootcamp/bootcamp_Junkuang_Lai/Bootcamp_Junkuang_Lai/project/data/processed/sample_20250823-133556.parquet')"
      ]
     },
     "execution_count": 13,
     "metadata": {},
     "output_type": "execute_result"
    }
   ],
   "source": [
    "def ts(): return dt.datetime.now().strftime('%Y%m%d-%H%M%S')\n",
    "\n",
    "# TODO: Save CSV\n",
    "project_root = Path.cwd().parent\n",
    "csv_path = project_root / \"data\" / \"raw\" / f\"sample_{ts()}.csv\"\n",
    "df.to_csv(csv_path, index=False)\n",
    "csv_path\n",
    "\n",
    "# TODO: Save Parquet\n",
    "pq_path = project_root / \"data\" / \"processed\" / f\"sample_{ts()}.parquet\"\n",
    "try:\n",
    "    df.to_parquet(pq_path)\n",
    "except Exception as e:\n",
    "    print('Parquet engine not available. Install pyarrow or fastparquet to complete this step.')\n",
    "    pq_path = None\n",
    "pq_path"
   ]
  },
  {
   "cell_type": "markdown",
   "id": "90656a43",
   "metadata": {},
   "source": [
    "# Stage06: Data Cleaning & Preprocessing"
   ]
  },
  {
   "cell_type": "code",
   "execution_count": 15,
   "id": "5b786f17",
   "metadata": {},
   "outputs": [],
   "source": [
    "#ensure librairies\n",
    "import pandas as pd\n",
    "import matplotlib.pyplot as plt\n",
    "import missingno as msno\n",
    "import seaborn as sns\n",
    "import numpy as np\n",
    "import os\n",
    "from pathlib import Path\n",
    "import sys  \n",
    "from src import cleaning"
   ]
  },
  {
   "cell_type": "code",
   "execution_count": 20,
   "id": "8eb5d34c",
   "metadata": {},
   "outputs": [
    {
     "name": "stdout",
     "output_type": "stream",
     "text": [
      "Data loaded successfully, Shape: (584, 5)\n",
      "         time     open      high       low   close\n",
      "0  2023-04-25  27.0780  27.24700  26.22500  26.241\n",
      "1  2023-04-26  27.0020  27.33000  26.70510  26.956\n",
      "2  2023-04-27  27.3630  27.49500  26.62501  27.226\n",
      "3  2023-04-28  27.2250  27.75800  27.07148  27.749\n",
      "4  2023-05-01  27.8400  29.05844  27.78000  28.910\n",
      "5  2023-05-02  28.6800  28.83599  28.08300  28.210\n",
      "6  2023-05-03  27.8400  28.36700  27.47200  27.802\n",
      "7  2023-05-04  27.6510  27.85900  27.24000  27.562\n",
      "8  2023-05-05  27.8255  28.75500  27.73100  28.680\n",
      "9  2023-05-08  28.5220  29.22000  28.35000  29.151\n"
     ]
    }
   ],
   "source": [
    "# Load and preview the dataset\n",
    "try:\n",
    "    df = pd.read_csv(os.path.join('data', 'raw', 'NVDA-Starter Data 2021-2025 Daily.csv'))\n",
    "    print(f\"Data loaded successfully, Shape: {df.shape}\")\n",
    "    print(df.head(10))\n",
    "except FileNotFoundError:\n",
    "    print(f\"File not found at {data_path}. Please check the file path.\")"
   ]
  },
  {
   "cell_type": "code",
   "execution_count": 19,
   "id": "955129b7",
   "metadata": {},
   "outputs": [
    {
     "name": "stdout",
     "output_type": "stream",
     "text": [
      "Number of missing values in column 'time': 0\n",
      "Number of missing values in column 'open': 0\n",
      "Number of missing values in column 'high': 0\n",
      "Number of missing values in column 'low': 0\n",
      "Number of missing values in column 'close': 0\n",
      "<class 'pandas.core.frame.DataFrame'>\n",
      "RangeIndex: 584 entries, 0 to 583\n",
      "Data columns (total 5 columns):\n",
      " #   Column  Non-Null Count  Dtype  \n",
      "---  ------  --------------  -----  \n",
      " 0   time    584 non-null    object \n",
      " 1   open    584 non-null    float64\n",
      " 2   high    584 non-null    float64\n",
      " 3   low     584 non-null    float64\n",
      " 4   close   584 non-null    float64\n",
      "dtypes: float64(4), object(1)\n",
      "memory usage: 22.9+ KB\n"
     ]
    },
    {
     "data": {
      "image/png": "[encoded data removed]",
      "text/plain": [
       "<Figure size 640x480 with 1 Axes>"
      ]
     },
     "metadata": {},
     "output_type": "display_data"
    },
    {
     "data": {
      "text/plain": [
       "<Axes: >"
      ]
     },
     "execution_count": 19,
     "metadata": {},
     "output_type": "execute_result"
    },
    {
     "data": {
      "image/png": "[encoded data removed]",
      "text/plain": [
       "<Figure size 2500x1000 with 2 Axes>"
      ]
     },
     "metadata": {},
     "output_type": "display_data"
    }
   ],
   "source": [
    "# Check the number of missing values in each column\n",
    "for col in df.columns:\n",
    "    print(f\"Number of missing values in column '{col}':\", df[col].isnull().sum())\n",
    "df.info()\n",
    "\n",
    "# Heatmap for missing data\n",
    "sns.heatmap(df.isnull(), cbar=False)\n",
    "plt.show()\n",
    "\n",
    "# missingno visualization\n",
    "msno.matrix(df)"
   ]
  },
  {
   "cell_type": "markdown",
   "id": "fb58d16a",
   "metadata": {},
   "source": [
    "### Assumption\n",
    "+ This shows a practical problem, dataset in real life might not keep integrity.\n",
    "\n",
    "+ Therefore, in order to demonstrate the diffrences between cleaned_data and uncleaned_datad and for better display the future monthly trends as a reference to the stackholders.The project will create a uncleaned_data file storaged in \"data/raw\";\n",
    "\n",
    "+ The project will select datetime 2024.June as starter data for reaserching pupose "
   ]
  },
  {
   "cell_type": "code",
   "execution_count": null,
   "id": "e1c36ac7",
   "metadata": {},
   "outputs": [
    {
     "name": "stdout",
     "output_type": "stream",
     "text": [
      "\n",
      "Data with random missing values:\n",
      "<class 'pandas.core.frame.DataFrame'>\n",
      "RangeIndex: 30 entries, 0 to 29\n",
      "Data columns (total 6 columns):\n",
      " #   Column  Non-Null Count  Dtype         \n",
      "---  ------  --------------  -----         \n",
      " 0   date    30 non-null     datetime64[ns]\n",
      " 1   open    27 non-null     float64       \n",
      " 2   high    27 non-null     float64       \n",
      " 3   low     27 non-null     float64       \n",
      " 4   close   27 non-null     float64       \n",
      " 5   volume  27 non-null     float64       \n",
      "dtypes: datetime64[ns](1), float64(5)\n",
      "memory usage: 1.5 KB\n"
     ]
    },
    {
     "data": {
      "text/html": [
       "<div>\n",
       "<style scoped>\n",
       "    .dataframe tbody tr th:only-of-type {\n",
       "        vertical-align: middle;\n",
       "    }\n",
       "\n",
       "    .dataframe tbody tr th {\n",
       "        vertical-align: top;\n",
       "    }\n",
       "\n",
       "    .dataframe thead th {\n",
       "        text-align: right;\n",
       "    }\n",
       "</style>\n",
       "<table border=\"1\" class=\"dataframe\">\n",
       "  <thead>\n",
       "    <tr style=\"text-align: right;\">\n",
       "      <th></th>\n",
       "      <th>date</th>\n",
       "      <th>open</th>\n",
       "      <th>high</th>\n",
       "      <th>low</th>\n",
       "      <th>close</th>\n",
       "      <th>volume</th>\n",
       "    </tr>\n",
       "  </thead>\n",
       "  <tbody>\n",
       "    <tr>\n",
       "      <th>0</th>\n",
       "      <td>2024-06-01</td>\n",
       "      <td>111.09</td>\n",
       "      <td>NaN</td>\n",
       "      <td>68.48</td>\n",
       "      <td>151.66</td>\n",
       "      <td>2527.0</td>\n",
       "    </tr>\n",
       "    <tr>\n",
       "      <th>1</th>\n",
       "      <td>2024-06-02</td>\n",
       "      <td>143.93</td>\n",
       "      <td>216.47</td>\n",
       "      <td>62.11</td>\n",
       "      <td>NaN</td>\n",
       "      <td>2919.0</td>\n",
       "    </tr>\n",
       "    <tr>\n",
       "      <th>2</th>\n",
       "      <td>2024-06-03</td>\n",
       "      <td>120.17</td>\n",
       "      <td>253.41</td>\n",
       "      <td>90.16</td>\n",
       "      <td>199.63</td>\n",
       "      <td>2415.0</td>\n",
       "    </tr>\n",
       "    <tr>\n",
       "      <th>3</th>\n",
       "      <td>2024-06-04</td>\n",
       "      <td>189.58</td>\n",
       "      <td>248.48</td>\n",
       "      <td>73.52</td>\n",
       "      <td>NaN</td>\n",
       "      <td>NaN</td>\n",
       "    </tr>\n",
       "    <tr>\n",
       "      <th>4</th>\n",
       "      <td>2024-06-05</td>\n",
       "      <td>147.54</td>\n",
       "      <td>269.24</td>\n",
       "      <td>NaN</td>\n",
       "      <td>NaN</td>\n",
       "      <td>2218.0</td>\n",
       "    </tr>\n",
       "    <tr>\n",
       "      <th>5</th>\n",
       "      <td>2024-06-06</td>\n",
       "      <td>156.33</td>\n",
       "      <td>NaN</td>\n",
       "      <td>69.94</td>\n",
       "      <td>188.26</td>\n",
       "      <td>1400.0</td>\n",
       "    </tr>\n",
       "    <tr>\n",
       "      <th>6</th>\n",
       "      <td>2024-06-07</td>\n",
       "      <td>169.55</td>\n",
       "      <td>224.41</td>\n",
       "      <td>90.82</td>\n",
       "      <td>118.87</td>\n",
       "      <td>1639.0</td>\n",
       "    </tr>\n",
       "    <tr>\n",
       "      <th>7</th>\n",
       "      <td>2024-06-08</td>\n",
       "      <td>113.93</td>\n",
       "      <td>216.83</td>\n",
       "      <td>89.92</td>\n",
       "      <td>127.89</td>\n",
       "      <td>4104.0</td>\n",
       "    </tr>\n",
       "    <tr>\n",
       "      <th>8</th>\n",
       "      <td>2024-06-09</td>\n",
       "      <td>160.44</td>\n",
       "      <td>221.88</td>\n",
       "      <td>57.54</td>\n",
       "      <td>170.04</td>\n",
       "      <td>3735.0</td>\n",
       "    </tr>\n",
       "    <tr>\n",
       "      <th>9</th>\n",
       "      <td>2024-06-10</td>\n",
       "      <td>153.98</td>\n",
       "      <td>255.81</td>\n",
       "      <td>75.41</td>\n",
       "      <td>184.67</td>\n",
       "      <td>1459.0</td>\n",
       "    </tr>\n",
       "  </tbody>\n",
       "</table>\n",
       "</div>"
      ],
      "text/plain": [
       "        date    open    high    low   close  volume\n",
       "0 2024-06-01  111.09     NaN  68.48  151.66  2527.0\n",
       "1 2024-06-02  143.93  216.47  62.11     NaN  2919.0\n",
       "2 2024-06-03  120.17  253.41  90.16  199.63  2415.0\n",
       "3 2024-06-04  189.58  248.48  73.52     NaN     NaN\n",
       "4 2024-06-05  147.54  269.24    NaN     NaN  2218.0\n",
       "5 2024-06-06  156.33     NaN  69.94  188.26  1400.0\n",
       "6 2024-06-07  169.55  224.41  90.82  118.87  1639.0\n",
       "7 2024-06-08  113.93  216.83  89.92  127.89  4104.0\n",
       "8 2024-06-09  160.44  221.88  57.54  170.04  3735.0\n",
       "9 2024-06-10  153.98  255.81  75.41  184.67  1459.0"
      ]
     },
     "execution_count": 27,
     "metadata": {},
     "output_type": "execute_result"
    }
   ],
   "source": [
    "# Define the original dataset\n",
    "dates = pd.date_range(\"2024-06-01\", \"2024-06-30\", freq=\"D\")  # Generate dates for June 2024\n",
    "data = {\n",
    "    \"date\": dates,\n",
    "    \"open\": np.round(np.random.uniform(100, 200, len(dates)), 2),  # Random open prices\n",
    "    \"high\": np.round(np.random.uniform(200, 300, len(dates)), 2),  # Random high prices\n",
    "    \"low\": np.round(np.random.uniform(50, 100, len(dates)), 2),    # Random low prices\n",
    "    \"close\": np.round(np.random.uniform(100, 200, len(dates)), 2), # Random close prices\n",
    "    \"volume\": np.random.randint(1000, 5000, len(dates)),           # Random trading volumes\n",
    "}\n",
    "\n",
    "# Create the DataFrame\n",
    "df = pd.DataFrame(data)\n",
    "\n",
    "# Filter data for June 2024\n",
    "df_june = df[df[\"date\"].dt.month == 6].copy()  \n",
    "\n",
    "# Introduce random missing values (without modifying the original data)\n",
    "df_uncleaned = df_june.copy()  # Create a copy to preserve the original data\n",
    "np.random.seed(42)  # Set random seed for reproducibility\n",
    "for col in [\"open\", \"high\", \"low\", \"close\", \"volume\"]:\n",
    "    missing_indices = np.random.choice(df_uncleaned.index, size=3, replace=False)  # Randomly select indices\n",
    "    df_uncleaned.loc[missing_indices, col] = np.nan  # Set selected values to NaN\n",
    "\n",
    "# uncleaned_data storage\n",
    "df_uncleaned.to_csv(os.path.join('data', 'raw', 'uncleaned_data.csv'), index=False) \n",
    "\n",
    "# quick check\n",
    "print(\"\\nData with random missing values:\")\n",
    "df_uncleaned.info()\n",
    "df_uncleaned.head(10)"
   ]
  },
  {
   "cell_type": "code",
   "execution_count": 28,
   "id": "165d600b",
   "metadata": {},
   "outputs": [
    {
     "name": "stdout",
     "output_type": "stream",
     "text": [
      "Number of missing values in column 'date': 0\n",
      "Number of missing values in column 'open': 3\n",
      "Number of missing values in column 'high': 3\n",
      "Number of missing values in column 'low': 3\n",
      "Number of missing values in column 'close': 3\n",
      "Number of missing values in column 'volume': 3\n",
      "<class 'pandas.core.frame.DataFrame'>\n",
      "RangeIndex: 30 entries, 0 to 29\n",
      "Data columns (total 6 columns):\n",
      " #   Column  Non-Null Count  Dtype         \n",
      "---  ------  --------------  -----         \n",
      " 0   date    30 non-null     datetime64[ns]\n",
      " 1   open    27 non-null     float64       \n",
      " 2   high    27 non-null     float64       \n",
      " 3   low     27 non-null     float64       \n",
      " 4   close   27 non-null     float64       \n",
      " 5   volume  27 non-null     float64       \n",
      "dtypes: datetime64[ns](1), float64(5)\n",
      "memory usage: 1.5 KB\n"
     ]
    },
    {
     "data": {
      "image/png": "[encoded data removed]",
      "text/plain": [
       "<Figure size 640x480 with 1 Axes>"
      ]
     },
     "metadata": {},
     "output_type": "display_data"
    },
    {
     "data": {
      "text/plain": [
       "<Axes: >"
      ]
     },
     "execution_count": 28,
     "metadata": {},
     "output_type": "execute_result"
    },
    {
     "data": {
      "image/png": "[encoded data removed]",
      "text/plain": [
       "<Figure size 2500x1000 with 2 Axes>"
      ]
     },
     "metadata": {},
     "output_type": "display_data"
    }
   ],
   "source": [
    "# Check the number of missing values in each column\n",
    "for col in df_uncleaned.columns:\n",
    "    print(f\"Number of missing values in column '{col}':\", df_uncleaned[col].isnull().sum())\n",
    "df_uncleaned.info()\n",
    "\n",
    "# Heatmap for missing data\n",
    "sns.heatmap(df_uncleaned.isnull(), cbar=False)\n",
    "plt.show()\n",
    "\n",
    "# missingno visualization\n",
    "msno.matrix(df_uncleaned)"
   ]
  },
  {
   "cell_type": "code",
   "execution_count": null,
   "id": "cb75762b",
   "metadata": {},
   "outputs": [
    {
     "ename": "KeyError",
     "evalue": "'income'",
     "output_type": "error",
     "traceback": [
      "\u001b[1;31m---------------------------------------------------------------------------\u001b[0m",
      "\u001b[1;31mKeyError\u001b[0m                                  Traceback (most recent call last)",
      "File \u001b[1;32mc:\\Users\\noven\\anaconda3\\Lib\\site-packages\\pandas\\core\\indexes\\base.py:3812\u001b[0m, in \u001b[0;36mIndex.get_loc\u001b[1;34m(self, key)\u001b[0m\n\u001b[0;32m   3811\u001b[0m \u001b[38;5;28;01mtry\u001b[39;00m:\n\u001b[1;32m-> 3812\u001b[0m     \u001b[38;5;28;01mreturn\u001b[39;00m \u001b[38;5;28mself\u001b[39m\u001b[38;5;241m.\u001b[39m_engine\u001b[38;5;241m.\u001b[39mget_loc(casted_key)\n\u001b[0;32m   3813\u001b[0m \u001b[38;5;28;01mexcept\u001b[39;00m \u001b[38;5;167;01mKeyError\u001b[39;00m \u001b[38;5;28;01mas\u001b[39;00m err:\n",
      "File \u001b[1;32mpandas/_libs/index.pyx:167\u001b[0m, in \u001b[0;36mpandas._libs.index.IndexEngine.get_loc\u001b[1;34m()\u001b[0m\n",
      "File \u001b[1;32mpandas/_libs/index.pyx:196\u001b[0m, in \u001b[0;36mpandas._libs.index.IndexEngine.get_loc\u001b[1;34m()\u001b[0m\n",
      "File \u001b[1;32mpandas/_libs/hashtable_class_helper.pxi:7088\u001b[0m, in \u001b[0;36mpandas._libs.hashtable.PyObjectHashTable.get_item\u001b[1;34m()\u001b[0m\n",
      "File \u001b[1;32mpandas/_libs/hashtable_class_helper.pxi:7096\u001b[0m, in \u001b[0;36mpandas._libs.hashtable.PyObjectHashTable.get_item\u001b[1;34m()\u001b[0m\n",
      "\u001b[1;31mKeyError\u001b[0m: 'income'",
      "\nThe above exception was the direct cause of the following exception:\n",
      "\u001b[1;31mKeyError\u001b[0m                                  Traceback (most recent call last)",
      "Cell \u001b[1;32mIn[29], line 2\u001b[0m\n\u001b[0;32m      1\u001b[0m \u001b[38;5;66;03m# MCAR: random missing\u001b[39;00m\n\u001b[1;32m----> 2\u001b[0m df_uncleaned[\u001b[38;5;124m'\u001b[39m\u001b[38;5;124mMCAR_col\u001b[39m\u001b[38;5;124m'\u001b[39m] \u001b[38;5;241m=\u001b[39m df_uncleaned[\u001b[38;5;124m'\u001b[39m\u001b[38;5;124mincome\u001b[39m\u001b[38;5;124m'\u001b[39m]\u001b[38;5;241m.\u001b[39mmask(np\u001b[38;5;241m.\u001b[39mrandom\u001b[38;5;241m.\u001b[39mrand(\u001b[38;5;28mlen\u001b[39m(df_uncleaned)) \u001b[38;5;241m<\u001b[39m \u001b[38;5;241m0.1\u001b[39m)\n\u001b[0;32m      3\u001b[0m \u001b[38;5;66;03m# MAR: missing depends on another column\u001b[39;00m\n\u001b[0;32m      4\u001b[0m df_uncleaned[\u001b[38;5;124m'\u001b[39m\u001b[38;5;124mMAR_col\u001b[39m\u001b[38;5;124m'\u001b[39m] \u001b[38;5;241m=\u001b[39m df_uncleaned[\u001b[38;5;124m'\u001b[39m\u001b[38;5;124mincome\u001b[39m\u001b[38;5;124m'\u001b[39m]\u001b[38;5;241m.\u001b[39mmask(df_uncleaned[\u001b[38;5;124m'\u001b[39m\u001b[38;5;124mcity\u001b[39m\u001b[38;5;124m'\u001b[39m]\u001b[38;5;241m==\u001b[39m\u001b[38;5;124m'\u001b[39m\u001b[38;5;124mA\u001b[39m\u001b[38;5;124m'\u001b[39m)\n",
      "File \u001b[1;32mc:\\Users\\noven\\anaconda3\\Lib\\site-packages\\pandas\\core\\frame.py:4107\u001b[0m, in \u001b[0;36mDataFrame.__getitem__\u001b[1;34m(self, key)\u001b[0m\n\u001b[0;32m   4105\u001b[0m \u001b[38;5;28;01mif\u001b[39;00m \u001b[38;5;28mself\u001b[39m\u001b[38;5;241m.\u001b[39mcolumns\u001b[38;5;241m.\u001b[39mnlevels \u001b[38;5;241m>\u001b[39m \u001b[38;5;241m1\u001b[39m:\n\u001b[0;32m   4106\u001b[0m     \u001b[38;5;28;01mreturn\u001b[39;00m \u001b[38;5;28mself\u001b[39m\u001b[38;5;241m.\u001b[39m_getitem_multilevel(key)\n\u001b[1;32m-> 4107\u001b[0m indexer \u001b[38;5;241m=\u001b[39m \u001b[38;5;28mself\u001b[39m\u001b[38;5;241m.\u001b[39mcolumns\u001b[38;5;241m.\u001b[39mget_loc(key)\n\u001b[0;32m   4108\u001b[0m \u001b[38;5;28;01mif\u001b[39;00m is_integer(indexer):\n\u001b[0;32m   4109\u001b[0m     indexer \u001b[38;5;241m=\u001b[39m [indexer]\n",
      "File \u001b[1;32mc:\\Users\\noven\\anaconda3\\Lib\\site-packages\\pandas\\core\\indexes\\base.py:3819\u001b[0m, in \u001b[0;36mIndex.get_loc\u001b[1;34m(self, key)\u001b[0m\n\u001b[0;32m   3814\u001b[0m     \u001b[38;5;28;01mif\u001b[39;00m \u001b[38;5;28misinstance\u001b[39m(casted_key, \u001b[38;5;28mslice\u001b[39m) \u001b[38;5;129;01mor\u001b[39;00m (\n\u001b[0;32m   3815\u001b[0m         \u001b[38;5;28misinstance\u001b[39m(casted_key, abc\u001b[38;5;241m.\u001b[39mIterable)\n\u001b[0;32m   3816\u001b[0m         \u001b[38;5;129;01mand\u001b[39;00m \u001b[38;5;28many\u001b[39m(\u001b[38;5;28misinstance\u001b[39m(x, \u001b[38;5;28mslice\u001b[39m) \u001b[38;5;28;01mfor\u001b[39;00m x \u001b[38;5;129;01min\u001b[39;00m casted_key)\n\u001b[0;32m   3817\u001b[0m     ):\n\u001b[0;32m   3818\u001b[0m         \u001b[38;5;28;01mraise\u001b[39;00m InvalidIndexError(key)\n\u001b[1;32m-> 3819\u001b[0m     \u001b[38;5;28;01mraise\u001b[39;00m \u001b[38;5;167;01mKeyError\u001b[39;00m(key) \u001b[38;5;28;01mfrom\u001b[39;00m\u001b[38;5;250m \u001b[39m\u001b[38;5;21;01merr\u001b[39;00m\n\u001b[0;32m   3820\u001b[0m \u001b[38;5;28;01mexcept\u001b[39;00m \u001b[38;5;167;01mTypeError\u001b[39;00m:\n\u001b[0;32m   3821\u001b[0m     \u001b[38;5;66;03m# If we have a listlike key, _check_indexing_error will raise\u001b[39;00m\n\u001b[0;32m   3822\u001b[0m     \u001b[38;5;66;03m#  InvalidIndexError. Otherwise we fall through and re-raise\u001b[39;00m\n\u001b[0;32m   3823\u001b[0m     \u001b[38;5;66;03m#  the TypeError.\u001b[39;00m\n\u001b[0;32m   3824\u001b[0m     \u001b[38;5;28mself\u001b[39m\u001b[38;5;241m.\u001b[39m_check_indexing_error(key)\n",
      "\u001b[1;31mKeyError\u001b[0m: 'income'"
     ]
    }
   ],
   "source": [
    "# # MCAR: random missing\n",
    "# df_uncleaned['MCAR_col'] = df_uncleaned['income'].mask(np.random.rand(len(df_uncleaned)) < 0.1)\n",
    "# # MAR: missing depends on another column\n",
    "# df_uncleaned['MAR_col'] = df_uncleaned['income'].mask(df_uncleaned['city']=='A')\n",
    "# # MNAR: missing depends on its own value\n",
    "# df_uncleaned['MNAR_col'] = df_uncleaned['income'].mask(df_uncleaned['income']>50)\n",
    "# df_uncleaned"
   ]
  },
  {
   "cell_type": "code",
   "execution_count": null,
   "id": "67baf1aa",
   "metadata": {},
   "outputs": [],
   "source": []
  }
 ],
 "metadata": {
  "kernelspec": {
   "display_name": "Python(bootcamp_env)",
   "language": "python",
   "name": "bootcamp_env"
  },
  "language_info": {
   "codemirror_mode": {
    "name": "ipython",
    "version": 3
   },
   "file_extension": ".py",
   "mimetype": "text/x-python",
   "name": "python",
   "nbconvert_exporter": "python",
   "pygments_lexer": "ipython3",
   "version": "3.13.5"
  }
 },
 "nbformat": 4,
 "nbformat_minor": 5
}
