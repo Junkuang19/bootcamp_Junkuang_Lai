{
 "cells": [
  {
   "cell_type": "markdown",
   "id": "2a4298a8-3941-485d-89d2-8d9315ef3db1",
   "metadata": {},
   "source": [
    "# Stage 01: Problem Framing & Scoping\n",
    "Goal: Enable individual investors to analyze and predict NVDA stock trends for the future using open data and reproducible analytics.\n",
    "\n",
    "### Data Dictionary:\n",
    "+ Date: Trading day\n",
    "+ Open: Opening price\n",
    "+ High: Highest price\n",
    "+ Low: Lowest price\n",
    "+ Close: Closing price\n",
    "+ Volume: Trading volume\n",
    "\n",
    "### Methodology:\n",
    "\n",
    "Acquire daily OHLCV data for NVDA (2023-2025)\n",
    "Clean, analyze, and model the data for trend detection and prediction"
   ]
  },
  {
   "cell_type": "markdown",
   "id": "a8332c50",
   "metadata": {},
   "source": [
    "# Stage02：tooling_setup"
   ]
  },
  {
   "cell_type": "code",
   "execution_count": 36,
   "id": "e34d72c0",
   "metadata": {},
   "outputs": [
    {
     "name": "stdout",
     "output_type": "stream",
     "text": [
      ".env loaded (if present)\n",
      "PROJECT_ROOT: c:\\Users\\noven\\Desktop\\Github Fre-5040 Bootcamp\\bootcamp_Junkuang_Lai\\Bootcamp_Junkuang_Lai\\project\\notebooks\n",
      "DATA_DIR: c:\\Users\\noven\\Desktop\\Github Fre-5040 Bootcamp\\bootcamp_Junkuang_Lai\\Bootcamp_Junkuang_Lai\\project\\notebooks\\data\n",
      "API_KEY is set\n",
      "text exist & is non-empty \n"
     ]
    }
   ],
   "source": [
    "# Environment & Setup Quick Check\n",
    "from pathlib import Path\n",
    "import os, sys\n",
    "from dotenv import load_dotenv\n",
    "\n",
    "#check.env \n",
    "load_dotenv() \n",
    "print(\".env loaded (if present)\")\n",
    "\n",
    "# Define project directories\n",
    "PROJECT_ROOT = Path.cwd()\n",
    "DATA_DIR = PROJECT_ROOT / \"data\"\n",
    "print(\"PROJECT_ROOT:\", PROJECT_ROOT)\n",
    "print(\"DATA_DIR:\", DATA_DIR)\n",
    "\n",
    "#check api key\n",
    "API_KEY = os.getenv(\"API_KEY\")\n",
    "if API_KEY:\n",
    "    print(\"API_KEY is set\")\n",
    "else:\n",
    "    print(\"API_KEY is not set\")\n",
    "\n",
    "#check requirements txt\n",
    "if os.path.exists('requirements.txt'):\n",
    "    size = os.path.getsize('requirements.txt')\n",
    "    if size > 0:\n",
    "        print(f\"text exist & is non-empty \")\n",
    "    else:\n",
    "        print(\"text exist but empty\")\n",
    "else:\n",
    "    print(\"text non-exist\")\n"
   ]
  },
  {
   "cell_type": "markdown",
   "id": "b038737c",
   "metadata": {},
   "source": [
    "# Stage03：Python_fundamentals"
   ]
  },
  {
   "cell_type": "code",
   "execution_count": null,
   "id": "a0c6336b",
   "metadata": {},
   "outputs": [
    {
     "name": "stdout",
     "output_type": "stream",
     "text": [
      "Looking for data file at: c:\\Users\\noven\\Desktop\\Github Fre-5040 Bootcamp\\bootcamp_Junkuang_Lai\\Bootcamp_Junkuang_Lai\\project\\data\\raw\\NVDA-Starter Data 2021-2025 Daily.csv\n",
      "File exists: True\n",
      "Dataset loading:\n",
      "            time     open       high        low    close\n",
      "0    2023-04-25   27.078   27.24700   26.22500   26.241\n",
      "1    2023-04-26   27.002   27.33000   26.70510   26.956\n",
      "2    2023-04-27   27.363   27.49500   26.62501   27.226\n",
      "3    2023-04-28   27.225   27.75800   27.07148   27.749\n",
      "4    2023-05-01   27.840   29.05844   27.78000   28.910\n",
      "..          ...      ...        ...        ...      ...\n",
      "579  2025-08-15  181.880  181.90000  178.04170  180.450\n",
      "580  2025-08-18  180.600  182.93750  180.59000  182.010\n",
      "581  2025-08-19  182.430  182.50000  175.49000  175.640\n",
      "582  2025-08-20  175.165  176.00000  168.80100  175.400\n",
      "583  2025-08-21  174.850  176.90000  173.81000  174.980\n",
      "\n",
      "[584 rows x 5 columns]\n",
      "<class 'pandas.core.frame.DataFrame'>\n",
      "RangeIndex: 584 entries, 0 to 583\n",
      "Data columns (total 5 columns):\n",
      " #   Column  Non-Null Count  Dtype  \n",
      "---  ------  --------------  -----  \n",
      " 0   time    584 non-null    object \n",
      " 1   open    584 non-null    float64\n",
      " 2   high    584 non-null    float64\n",
      " 3   low     584 non-null    float64\n",
      " 4   close   584 non-null    float64\n",
      "dtypes: float64(4), object(1)\n",
      "memory usage: 22.9+ KB\n",
      "None\n",
      "         time    open      high       low   close\n",
      "0  2023-04-25  27.078  27.24700  26.22500  26.241\n",
      "1  2023-04-26  27.002  27.33000  26.70510  26.956\n",
      "2  2023-04-27  27.363  27.49500  26.62501  27.226\n",
      "3  2023-04-28  27.225  27.75800  27.07148  27.749\n",
      "4  2023-05-01  27.840  29.05844  27.78000  28.910\n",
      "Summary Statistics:\n",
      "              open        high         low       close\n",
      "count  584.000000  584.000000  584.000000  584.000000\n",
      "mean    96.514280   98.173940   94.645669   96.509405\n",
      "std     42.992931   43.560167   42.219316   42.922049\n",
      "min     27.002000   27.247000   26.225000   26.241000\n",
      "25%     48.107250   48.544250   47.396500   47.953750\n",
      "50%    105.057500  108.860000  103.055000  106.469500\n",
      "75%    132.437500  135.000000  129.675000  131.910000\n",
      "max    182.960000  184.480000  180.590000  183.160000\n"
     ]
    }
   ],
   "source": [
    "from pathlib import Path\n",
    "import pandas as pd\n",
    "\n",
    "# load dataset\n",
    "project_root = Path.cwd().parent\n",
    "data_path = project_root / \"data\" / \"raw\" / \"NVDA-Starter Data 2021-2025 Daily.csv\"\n",
    "\n",
    "print(\"Looking for data file at:\", data_path)\n",
    "print(\"File exists:\", data_path.exists())\n",
    "\n",
    "df = pd.read_csv(data_path)\n",
    "\n",
    "# Dataset quick check\n",
    "print(\"Dataset loading:\\n\", df)\n",
    "print(df.info())\n",
    "print(df.head())\n",
    "print(\"Summary Statistics:\\n\", df.describe())"
   ]
  },
  {
   "cell_type": "code",
   "execution_count": null,
   "id": "5f815872",
   "metadata": {},
   "outputs": [
    {
     "name": "stdout",
     "output_type": "stream",
     "text": [
      "Function calc_mean_std_logged called at 2025-08-23 09:42:46.217032\n",
      "Function calc_mean_std_logged called at 2025-08-23 09:42:46.217559\n",
      "(np.float64(3.0), np.float64(1.4142135623730951))\n"
     ]
    }
   ],
   "source": [
    "# src\\utils demo\n",
    "import sys\n",
    "\n",
    "src_path = Path.cwd().parent / \"src\"\n",
    "sys.path.append(str(src_path))\n",
    "\n",
    "from utils import calc_mean_std_logged  \n",
    "\n",
    "# utils example \n",
    "print(calc_mean_std_logged([1, 2, 3, 4, 5]))"
   ]
  },
  {
   "cell_type": "code",
   "execution_count": 57,
   "id": "c1749794",
   "metadata": {},
   "outputs": [
    {
     "name": "stdout",
     "output_type": "stream",
     "text": [
      "Column names: ['time', 'open', 'high', 'low', 'close']\n",
      "Number of rows: 584\n",
      "               open               \n",
      "               mean      sum count\n",
      "time                              \n",
      "2023-04-25  27.0780  27.0780     1\n",
      "2023-04-26  27.0020  27.0020     1\n",
      "2023-04-27  27.3630  27.3630     1\n",
      "2023-04-28  27.2250  27.2250     1\n",
      "2023-05-01  27.8400  27.8400     1\n",
      "2023-05-02  28.6800  28.6800     1\n",
      "2023-05-03  27.8400  27.8400     1\n",
      "2023-05-04  27.6510  27.6510     1\n",
      "2023-05-05  27.8255  27.8255     1\n",
      "2023-05-08  28.5220  28.5220     1\n"
     ]
    }
   ],
   "source": [
    "#summarize the dataset\n",
    "print(\"Column names:\", df.columns.tolist())\n",
    "print(\"Number of rows:\", len(df))\n",
    "\n",
    "def df_Summary():\n",
    "    return df.groupby(df.columns[0]).agg({\n",
    "        df.columns[1]: ['mean', 'sum', 'count']\n",
    "    })\n",
    "\n",
    "#Quick check example\n",
    "print(df_Summary().head(10))\n"
   ]
  },
  {
   "cell_type": "code",
   "execution_count": null,
   "id": "c2391a55",
   "metadata": {},
   "outputs": [
    {
     "name": "stdout",
     "output_type": "stream",
     "text": [
      "Summary stats saved to c:\\Users\\noven\\Desktop\\Github Fre-5040 Bootcamp\\bootcamp_Junkuang_Lai\\Bootcamp_Junkuang_Lai\\project\\data\\processed\\summary.csv\n"
     ]
    }
   ],
   "source": [
    "#To keep the dataset integrity, I will save all to the summary.csv file\n",
    "project_root = Path.cwd().parent\n",
    "processed_dir = project_root / \"data\" / \"processed\"\n",
    "processed_dir.mkdir(parents=True, exist_ok=True)\n",
    "\n",
    "summary_stats = df.describe()\n",
    "summary_stats.to_csv(processed_dir / \"summary.csv\")\n",
    "print(f\"Summary stats saved to {processed_dir / 'summary.csv'}\")"
   ]
  },
  {
   "cell_type": "markdown",
   "id": "aac78c30",
   "metadata": {},
   "source": [
    "# Stage04：Data Acquisition and Ingestion\n",
    "\n",
    "+ The NVDA dataset for the project has downloaded in homework time, therefore the script below is to demonstrate for milestone requirements"
   ]
  },
  {
   "cell_type": "code",
   "execution_count": null,
   "id": "6a8c8fc4",
   "metadata": {},
   "outputs": [
    {
     "name": "stderr",
     "output_type": "stream",
     "text": [
      "[*********************100%***********************]  1 of 1 completed\n"
     ]
    },
    {
     "data": {
      "text/html": [
       "<div>\n",
       "<style scoped>\n",
       "    .dataframe tbody tr th:only-of-type {\n",
       "        vertical-align: middle;\n",
       "    }\n",
       "\n",
       "    .dataframe tbody tr th {\n",
       "        vertical-align: top;\n",
       "    }\n",
       "\n",
       "    .dataframe thead th {\n",
       "        text-align: right;\n",
       "    }\n",
       "</style>\n",
       "<table border=\"1\" class=\"dataframe\">\n",
       "  <thead>\n",
       "    <tr style=\"text-align: right;\">\n",
       "      <th></th>\n",
       "      <th>date</th>\n",
       "      <th>adj_close</th>\n",
       "    </tr>\n",
       "  </thead>\n",
       "  <tbody>\n",
       "    <tr>\n",
       "      <th>0</th>\n",
       "      <td>2025-02-24</td>\n",
       "      <td>130.258972</td>\n",
       "    </tr>\n",
       "    <tr>\n",
       "      <th>1</th>\n",
       "      <td>2025-02-25</td>\n",
       "      <td>126.609558</td>\n",
       "    </tr>\n",
       "    <tr>\n",
       "      <th>2</th>\n",
       "      <td>2025-02-26</td>\n",
       "      <td>131.258820</td>\n",
       "    </tr>\n",
       "    <tr>\n",
       "      <th>3</th>\n",
       "      <td>2025-02-27</td>\n",
       "      <td>120.130608</td>\n",
       "    </tr>\n",
       "    <tr>\n",
       "      <th>4</th>\n",
       "      <td>2025-02-28</td>\n",
       "      <td>124.899834</td>\n",
       "    </tr>\n",
       "  </tbody>\n",
       "</table>\n",
       "</div>"
      ],
      "text/plain": [
       "        date   adj_close\n",
       "0 2025-02-24  130.258972\n",
       "1 2025-02-25  126.609558\n",
       "2 2025-02-26  131.258820\n",
       "3 2025-02-27  120.130608\n",
       "4 2025-02-28  124.899834"
      ]
     },
     "execution_count": 74,
     "metadata": {},
     "output_type": "execute_result"
    }
   ],
   "source": [
    "# Download stock data from yfinance\n",
    "SYMBOL = 'NVDA'\n",
    "import yfinance as yf\n",
    "df_api = yf.download(SYMBOL, period='6mo', interval='1d', auto_adjust=True).reset_index()\n",
    "# Use 'Adj Close' if present, else use 'Close'\n",
    "if 'Adj Close' in df_api.columns:\n",
    "    df_api = df_api[['Date', 'Adj Close']]\n",
    "    df_api.columns = ['date', 'adj_close']\n",
    "elif 'Close' in df_api.columns:\n",
    "    df_api = df_api[['Date', 'Close']]\n",
    "    df_api.columns = ['date', 'adj_close']\n",
    "else:\n",
    "    raise ValueError(\"No 'Adj Close' or 'Close' column found in yfinance data\")\n",
    "\n",
    "# Quick check\n",
    "df_api.head()\n"
   ]
  },
  {
   "cell_type": "markdown",
   "id": "66e7120d",
   "metadata": {},
   "source": [
    "# Stage05：Data Storage"
   ]
  },
  {
   "cell_type": "markdown",
   "id": "3440ce58",
   "metadata": {},
   "source": []
  },
  {
   "cell_type": "code",
   "execution_count": null,
   "id": "5df5c65c",
   "metadata": {},
   "outputs": [],
   "source": []
  }
 ],
 "metadata": {
  "kernelspec": {
   "display_name": "Python(bootcamp_env)",
   "language": "python",
   "name": "bootcamp_env"
  },
  "language_info": {
   "codemirror_mode": {
    "name": "ipython",
    "version": 3
   },
   "file_extension": ".py",
   "mimetype": "text/x-python",
   "name": "python",
   "nbconvert_exporter": "python",
   "pygments_lexer": "ipython3",
   "version": "3.13.5"
  }
 },
 "nbformat": 4,
 "nbformat_minor": 5
}
